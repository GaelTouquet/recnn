{
 "cells": [
  {
   "cell_type": "code",
   "execution_count": 11,
   "metadata": {
    "collapsed": true
   },
   "outputs": [],
   "source": [
    "basepath = '/data/conda/recnn/data'\n",
    "trainfile,testfile = '/npyfiles/25Juin_anti-kt_train.npy','/npyfiles/25Juin_anti-kt_test.npy'\n",
    "name = \"anti-kt\"\n",
    "modelpath = '/models/model_anti-kt_25Juin.pickle'\n",
    "\n",
    "\n",
    "trainfile=basepath+trainfile\n",
    "testfile=basepath+testfile"
   ]
  },
  {
   "cell_type": "code",
   "execution_count": 12,
   "metadata": {
    "collapsed": true
   },
   "outputs": [],
   "source": [
    "from sklearn.preprocessing import RobustScaler\n",
    "from sklearn.metrics import roc_auc_score\n",
    "from sklearn.metrics import roc_curve\n",
    "import matplotlib.pyplot as plt\n",
    "import numpy as np\n",
    "import pickle\n",
    "import sys\n",
    "np.seterr(divide=\"ignore\")\n",
    "sys.path.append(\"..\")\n",
    "from recnn.recnn import grnn_predict_simple\n",
    "from recnn.recnn import grnn_predict_gated\n",
    "from recnn.preprocessing import rewrite_content\n",
    "from recnn.preprocessing import multithreadmap\n",
    "from recnn.preprocessing import permute_by_pt\n",
    "from recnn.preprocessing import extract"
   ]
  },
  {
   "cell_type": "code",
   "execution_count": 13,
   "metadata": {
    "collapsed": true
   },
   "outputs": [],
   "source": [
    "def extractcontent(jet):\n",
    "    return(jet[\"content\"])\n",
    "def tftransform(jet,tf):\n",
    "    jet[\"content\"] = tf.transform(jet[\"content\"])\n",
    "    return(jet)\n",
    "\n",
    "def load_tf(X, y):\n",
    "    # Make training data\n",
    "    X = multithreadmap(rewrite_content,X)\n",
    "    X = multithreadmap(extract,X)\n",
    "    Xcontent=multithreadmap(extractcontent,X)\n",
    "    tf = RobustScaler().fit(np.vstack(Xcontent))\n",
    "    return(tf)\n",
    "\n",
    "def load_test(tf, X, y):\n",
    "    # Make test data\n",
    "    shuf = np.random.permutation(len(X))\n",
    "    X=X[shuf]\n",
    "    y=y[shuf]\n",
    "    print(\"Preprocessing...\")\n",
    "    X = multithreadmap(rewrite_content,X)\n",
    "    X = multithreadmap(permute_by_pt,X)\n",
    "    X = multithreadmap(extract,X)\n",
    "    X=multithreadmap(tftransform,X,tf=tf)\n",
    "    return(X, y)\n",
    "\n",
    "def roc_curve_perso(y, y_pred,density=1000):\n",
    "    back = np.argwhere(y==0)\n",
    "    back = back.reshape((len(back),))\n",
    "    sign = np.argwhere(y==1)\n",
    "    sign=sign.reshape((len(sign),))\n",
    "    y_pred_sign=y_pred[sign]\n",
    "    y_pred_back=y_pred[back]\n",
    "    t=np.linspace(0.,1.,density)\n",
    "    tpr=np.zeros(density,dtype=float)\n",
    "    fpr=np.zeros(density,dtype=float)\n",
    "    for i in range(density):\n",
    "        tpr[i]=np.sum(y_pred_sign<=t[i])\n",
    "        fpr[i]=np.sum(y_pred_back<=t[i])\n",
    "    tpr=1-tpr/len(y_pred_sign)\n",
    "    fpr=1-fpr/len(y_pred_back)\n",
    "    return(fpr,tpr,t)"
   ]
  },
  {
   "cell_type": "code",
   "execution_count": 14,
   "metadata": {
    "collapsed": true
   },
   "outputs": [],
   "source": [
    "def predict(X, filename, func=grnn_predict_simple):\n",
    "    fd = open(filename, \"rb\")\n",
    "    params = pickle.load(fd)\n",
    "    fd.close()\n",
    "    y_pred = func(params, X)\n",
    "    return(y_pred)\n",
    "\n",
    "def evaluate_models(X, y, filename, func=grnn_predict_simple):\n",
    "    print(\"Loading \" + filename),\n",
    "    y_pred = predict(X, filename, func=func)\n",
    "    fpr, tpr, _ = roc_curve_perso(y, y_pred,density=100)\n",
    "    roc = np.trapz(-tpr,fpr)\n",
    "    print(\"ROC AUC = %.4f\" % roc)\n",
    "    return(roc, fpr, tpr)\n",
    "\n",
    "def build_rocs(tf, X1, y1, model):\n",
    "    X, y = load_test(tf, X1, y1) \n",
    "    roc, fpr, tpr = evaluate_models(X, y, model, func=grnn_predict_gated)\n",
    "    return(roc, fpr, tpr)"
   ]
  },
  {
   "cell_type": "code",
   "execution_count": 16,
   "metadata": {},
   "outputs": [],
   "source": [
    "### Load training data ###\n",
    "X, y = np.load(trainfile)\n",
    "X=np.array(X).astype(dict)\n",
    "y = np.array(y).astype(int)\n",
    "\n",
    "### eliminate single particles (now useless) ###\n",
    "i=0\n",
    "while i < len(y):\n",
    "    if X[i]['tree'].shape == (1, 2):\n",
    "        X,y=np.delete(X,i),np.delete(y,i)\n",
    "    else :\n",
    "        i+=1\n",
    "\n",
    "### to rescale test data ###\n",
    "tf = load_tf(X,y)\n",
    "\n",
    "### Load test data ###\n",
    "X1, y1 = np.load(testfile)\n",
    "X1 = np.array(X1).astype(dict)\n",
    "y1 = np.array(y1).astype(int)\n",
    "\n",
    "### eliminate single particles (now useless) ###\n",
    "i=0\n",
    "while i < len(y1):\n",
    "    if X1[i]['tree'].shape == (1, 2):\n",
    "        X1,y1=np.delete(X1,i),np.delete(y1,i)\n",
    "    else :\n",
    "        i+=1"
   ]
  },
  {
   "cell_type": "code",
   "execution_count": 17,
   "metadata": {},
   "outputs": [
    {
     "name": "stdout",
     "output_type": "stream",
     "text": [
      "Preprocessing...\n",
      "Loading /data/conda/recnn/data/models/model_anti-kt_25Juin.pickle ROC AUC = 0.9526\n"
     ]
    },
    {
     "data": {
      "image/png": "[encoded data removed]",
      "text/plain": [
       "<matplotlib.figure.Figure at 0x7fe2fa02cf10>"
      ]
     },
     "metadata": {},
     "output_type": "display_data"
    },
    {
     "name": "stdout",
     "output_type": "stream",
     "text": [
      "0.9525868138428316\n"
     ]
    }
   ],
   "source": [
    "### Build the roc ###\n",
    "r, f, t = build_rocs(tf, X1, y1, basepath+modelpath)\n",
    "plt.plot(f,t,label=name)\n",
    "plt.show()\n",
    "print(r)"
   ]
  }
 ],
 "metadata": {
  "kernelspec": {
   "display_name": "Python 2",
   "language": "python",
   "name": "python2"
  },
  "language_info": {
   "codemirror_mode": {
    "name": "ipython",
    "version": 2
   },
   "file_extension": ".py",
   "mimetype": "text/x-python",
   "name": "python",
   "nbconvert_exporter": "python",
   "pygments_lexer": "ipython2",
   "version": "2.7.14"
  }
 },
 "nbformat": 4,
 "nbformat_minor": 2
}
