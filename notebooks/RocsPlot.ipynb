{
 "cells": [
  {
   "cell_type": "code",
   "execution_count": null,
   "metadata": {
    "collapsed": true
   },
   "outputs": [],
   "source": [
    "basepath = '/data/conda/recnn/data'"
   ]
  },
  {
   "cell_type": "code",
   "execution_count": null,
   "metadata": {
    "collapsed": true
   },
   "outputs": [],
   "source": [
    "from sklearn.preprocessing import RobustScaler\n",
    "from sklearn.metrics import roc_auc_score\n",
    "from sklearn.metrics import roc_curve\n",
    "from sklearn.decomposition import PCA\n",
    "from sklearn.manifold import TSNE\n",
    "import matplotlib.pyplot as plt\n",
    "import multiprocessing as mp\n",
    "from scipy import interp\n",
    "import numpy as np\n",
    "import logging\n",
    "import pickle\n",
    "import glob\n",
    "import sys\n",
    "\n",
    "np.seterr(divide=\"ignore\")\n",
    "sys.path.append(\"..\")\n",
    "\n",
    "from recnn.recnn import grnn_transform_simple\n",
    "from recnn.recnn import grnn_predict_simple\n",
    "from recnn.recnn import grnn_predict_gated\n",
    "\n",
    "\n",
    "from recnn.preprocessing import sequentialize_by_pt\n",
    "from recnn.preprocessing import rewrite_content\n",
    "from recnn.preprocessing import multithreadmap\n",
    "from recnn.preprocessing import permute_by_pt\n",
    "from recnn.preprocessing import randomize\n",
    "from recnn.preprocessing import extract\n",
    "\n",
    "\n",
    "\n",
    "\n",
    "%matplotlib inline\n",
    "plt.rcParams[\"figure.figsize\"] = (6, 6)"
   ]
  },
  {
   "cell_type": "markdown",
   "metadata": {},
   "source": [
    "# Loading functions"
   ]
  },
  {
   "cell_type": "code",
   "execution_count": null,
   "metadata": {
    "collapsed": true
   },
   "outputs": [],
   "source": [
    "def extractcontent(jet):\n",
    "    return(jet[\"content\"])\n",
    "\n",
    "def tftransform(jet,tf):\n",
    "    jet[\"content\"] = tf.transform(jet[\"content\"])\n",
    "    return(jet)\n",
    "\n",
    "def load_tf(filename_train, preprocess=None, n_events_train=-1):\n",
    "    # Make training data\n",
    "    print(\"Loading training data...\")\n",
    "\n",
    "    X, y = np.load(filename_train)\n",
    "    X=np.array(X).astype(dict)\n",
    "    y = np.array(y).astype(int)\n",
    "\n",
    "    if n_events_train > 0:\n",
    "        indices = np.random.permutation(len(X))[:n_events_train]\n",
    "        X = X[indices]\n",
    "        y = y[indices]\n",
    "\n",
    "    print(\"\\tfilename = \" + filename_train)\n",
    "    print(\"\\tX size = \")\n",
    "    print(len(X))\n",
    "    print(\"\\ty size = \")\n",
    "    print(len(y))\n",
    "\n",
    "    # Preprocessing \n",
    "    print(\"Preprocessing...\")\n",
    "    X = multithreadmap(rewrite_content,X)\n",
    "\n",
    "    if preprocess:\n",
    "        X = multithreadmap(preprocess,X)\n",
    "\n",
    "    X = multithreadmap(permute_by_pt,multithreadmap(extract,X))\n",
    "    Xcontent=multithreadmap(extractcontent,X)\n",
    "    tf = RobustScaler().fit(np.vstack(Xcontent))\n",
    "\n",
    "    return(tf)\n",
    "\n",
    "def load_test(tf, filename_test, preprocess=None):\n",
    "    # Make test data \n",
    "    print(\"Loading test data...\")\n",
    "\n",
    "    X, y = np.load(filename_test)\n",
    "    X = np.array(X).astype(dict)\n",
    "    y = np.array(y).astype(int)\n",
    "\n",
    "    print(\"\\tfilename = \" + filename_test)\n",
    "    print(\"\\tX size = \")\n",
    "    print(len(X))\n",
    "    print(\"\\ty size = \")\n",
    "    print(len(y))\n",
    "    # Preprocessing \n",
    "    print(\"Preprocessing...\")\n",
    "    X = multithreadmap(rewrite_content,X)\n",
    "    \n",
    "    if preprocess:\n",
    "        X = multithreadmap(preprocess,X)\n",
    "        \n",
    "    X = multithreadmap(permute_by_pt,X)\n",
    "    X = multithreadmap(extract,X)\n",
    "\n",
    "    X=multithreadmap(tftransform,X,tf=tf)\n",
    "\n",
    "    return(X, y)"
   ]
  },
  {
   "cell_type": "code",
   "execution_count": null,
   "metadata": {},
   "outputs": [],
   "source": [
    "def predict(X, filename, func=grnn_predict_simple):\n",
    "    \"\"\"\n",
    "    gives the prediction function\n",
    "    \"\"\"\n",
    "    fd = open(filename, \"rb\")\n",
    "    params = pickle.load(fd)\n",
    "    fd.close()\n",
    "    y_pred = func(params, X)\n",
    "    return(y_pred)\n",
    "\n",
    "def evaluate_models(X, y, filename_list, func=grnn_predict_simple):\n",
    "    rocs = []\n",
    "    fprs = []\n",
    "    tprs = []\n",
    "    \n",
    "    for filename in filename_list:\n",
    "        print(\"Loading \" + filename),\n",
    "            \n",
    "        y_pred = predict(X, filename, func=func)\n",
    "        \n",
    "        # Roc\n",
    "        rocs.append(roc_auc_score(y, y_pred))\n",
    "        fpr, tpr, _ = roc_curve(y, y_pred)\n",
    "        \n",
    "        fprs.append(fpr)\n",
    "        tprs.append(tpr)\n",
    "        \n",
    "        print(\"ROC AUC = %.4f\" % rocs[-1])\n",
    "         \n",
    "    print(\"Mean ROC AUC = %.4f\" % np.mean(rocs))\n",
    "        \n",
    "    return(rocs, fprs, tprs)\n",
    "\n",
    "def build_rocs(trainfile, testfile, model, preprocess=None):\n",
    "    tf = load_tf(trainfile, preprocess=preprocess)\n",
    "    X, y = load_test(tf, testfile, preprocess=preprocess) \n",
    "\n",
    "    rocs, fprs, tprs = evaluate_models(X, y, [model], func=grnn_predict_gated)\n",
    "        \n",
    "    return(rocs, fprs, tprs)"
   ]
  },
  {
   "cell_type": "code",
   "execution_count": null,
   "metadata": {
    "collapsed": true
   },
   "outputs": [],
   "source": [
    "def report_score(rocs, fprs, tprs, label, latex=False, input=\"particles\", short=False):       \n",
    "    inv_fprs = []\n",
    "    base_tpr = np.linspace(0.05, 1, 476)\n",
    "    \n",
    "    for fpr, tpr in zip(fprs, tprs):\n",
    "        inv_fpr = interp(base_tpr, tpr, fpr)\n",
    "        inv_fprs.append(inv_fpr)\n",
    "        \n",
    "    inv_fprs = np.array(inv_fprs)\n",
    "    mean_inv_fprs = inv_fprs.mean(axis=0)\n",
    "    \n",
    "    if not latex:\n",
    "        print(\"%32s\\tROC AUC=%.4f+-%.2f\\t1/FPR@TPR=0.5=%.2f+-%.2f\" %  (label, \n",
    "                                                                       np.mean(rocs), \n",
    "                                                                       np.std(rocs),\n",
    "                                                                       np.mean(inv_fprs[:, 225]),\n",
    "                                                                       np.std(inv_fprs[:, 225])))\n",
    "    else:\n",
    "        if not short:\n",
    "            print(\"%10s \\t& %30s \\t& %.4f $\\pm$ %.4f \\t& %.1f $\\pm$ %.1f \\\\\\\\\" % \n",
    "                  (input,\n",
    "                   label,\n",
    "                   np.mean(rocs), \n",
    "                   np.std(rocs),\n",
    "                   np.mean(inv_fprs[:, 225]),\n",
    "                   np.std(inv_fprs[:, 225])))\n",
    "        else:\n",
    "            print(\"%30s \\t& %.4f $\\pm$ %.4f \\t& %.1f $\\pm$ %.1f \\\\\\\\\" % \n",
    "                  (label,\n",
    "                   np.mean(rocs), \n",
    "                   np.std(rocs),\n",
    "                   np.mean(inv_fprs[:, 225]),\n",
    "                   np.std(inv_fprs[:, 225])))\n",
    "    return(None)\n",
    "        \n",
    "def plot_rocs(rocs, fprs, tprs, label=\"\", color=\"r\", show_all=False):\n",
    "    inv_fprs = []\n",
    "    base_tpr = np.linspace(0.05, 1, 476)\n",
    "    \n",
    "    for fpr, tpr in zip(fprs, tprs):\n",
    "        inv_fpr = interp(base_tpr, tpr, fpr)\n",
    "        inv_fprs.append(inv_fpr)\n",
    "        if show_all:\n",
    "            plt.plot(base_tpr, inv_fpr, alpha=0.2, color=color)\n",
    "        \n",
    "    inv_fprs = np.array(inv_fprs)\n",
    "    mean_inv_fprs = inv_fprs.mean(axis=0)\n",
    "\n",
    "\n",
    "    plt.plot(base_tpr, mean_inv_fprs, color, \n",
    "             label=label)\n",
    "    return(None)\n",
    "    \n",
    "def plot_show(filename=None):\n",
    "    plt.xlabel(\"Signal efficiency\")\n",
    "    plt.ylabel(\"Background efficiency\")\n",
    "    plt.xlim([0.1, 1.0])\n",
    "    plt.ylim(1, 500)\n",
    "    plt.yscale(\"log\")\n",
    "    plt.legend(loc=\"best\")\n",
    "    plt.grid()\n",
    "    \n",
    "    if filename:\n",
    "        plt.savefig(filename)\n",
    "    \n",
    "    plt.show()"
   ]
  },
  {
   "cell_type": "markdown",
   "metadata": {},
   "source": [
    "### Counting parameters of the network"
   ]
  },
  {
   "cell_type": "code",
   "execution_count": null,
   "metadata": {},
   "outputs": [],
   "source": [
    "modelpath = '/models/model_anti-kt.pickle'\n",
    "\n",
    "def count(params):\n",
    "    def _count(thing):\n",
    "        if isinstance(thing, list):\n",
    "            c = 0\n",
    "            for stuff in thing:\n",
    "                c += _count(stuff)\n",
    "            return(c) \n",
    "        elif isinstance(thing, np.ndarray):\n",
    "            return(np.prod(thing.shape))\n",
    "        return(None)\n",
    "\n",
    "    c = 0\n",
    "    for k, v in params.items():\n",
    "        c += _count(v)\n",
    "    return(c)\n",
    "\n",
    "\n",
    "\n",
    "fd = open(basepath + modelpath, \"rb\")\n",
    "model = pickle.load(fd)\n",
    "fd.close()\n",
    "\n",
    "print(\"number of params = \")\n",
    "print(count(model))\n"
   ]
  },
  {
   "cell_type": "markdown",
   "metadata": {},
   "source": [
    "## Loading data"
   ]
  },
  {
   "cell_type": "code",
   "execution_count": null,
   "metadata": {
    "collapsed": true
   },
   "outputs": [],
   "source": [
    "filename_train = \"/npyfiles/MoreStat_anti-kt_train.npy\"\n",
    "filename_test = \"/npyfiles/MoreStat_anti-kt_test.npy\"\n",
    "modelpath = \"/models/model_anti-kt.pickle\""
   ]
  },
  {
   "cell_type": "code",
   "execution_count": null,
   "metadata": {},
   "outputs": [],
   "source": [
    "tf = load_tf(basepath+filename_train)\n",
    "X, y = load_test(tf, basepath+filename_test)"
   ]
  },
  {
   "cell_type": "code",
   "execution_count": null,
   "metadata": {
    "collapsed": true
   },
   "outputs": [],
   "source": [
    "Xsave,ysave=np.copy(X),np.copy(y)"
   ]
  },
  {
   "cell_type": "code",
   "execution_count": null,
   "metadata": {
    "collapsed": true
   },
   "outputs": [],
   "source": [
    "fd = open(basepath+modelpath, \"rb\")\n",
    "params = pickle.load(fd)\n",
    "fd.close()"
   ]
  },
  {
   "cell_type": "markdown",
   "metadata": {},
   "source": [
    "## nice projections"
   ]
  },
  {
   "cell_type": "code",
   "execution_count": null,
   "metadata": {},
   "outputs": [],
   "source": [
    "Xt = grnn_transform_simple(params, X[:5000])\n",
    "Xtt = TSNE(n_components=2).fit_transform(Xt)\n",
    "\n",
    "fig=plt.figure()\n",
    "for i in range(5000):\n",
    "    plt.scatter(Xtt[i, 0], Xtt[i, 1], color=\"b\" if y[i] == 1 else \"r\", alpha=0.5)\n",
    "\n",
    "fig.set_size_inches(6.69291,4)\n",
    "plt.show()"
   ]
  },
  {
   "cell_type": "code",
   "execution_count": null,
   "metadata": {},
   "outputs": [],
   "source": [
    "Xtt = PCA(n_components=2).fit_transform(Xt)\n",
    "fig=plt.figure()\n",
    "\n",
    "for i in range(5000):\n",
    "    plt.scatter(Xtt[i, 0], Xtt[i, 1], color=\"b\" if y[i] == 1 else \"r\", alpha=0.5)\n",
    "fig.set_size_inches(6.69291,4)\n",
    "plt.show()"
   ]
  },
  {
   "cell_type": "code",
   "execution_count": null,
   "metadata": {
    "collapsed": true
   },
   "outputs": [],
   "source": [
    "trainfile_list,testfile_list = ['/npyfiles/MoreStat_anti-kt_train.npy'],['/npyfiles/MoreStat_anti-kt_test.npy']\n",
    "roccurvesfile = \"/roccurves/model_anti-kt_roc.pickle\""
   ]
  },
  {
   "cell_type": "code",
   "execution_count": null,
   "metadata": {},
   "outputs": [],
   "source": [
    "for i in range(len(trainfile_list)):\n",
    "    trainfile_list[i]=basepath+trainfile_list[i]\n",
    "\n",
    "for i in range(len(testfile_list)):\n",
    "    testfile_list[i]=basepath+testfile_list[i]\n",
    "\n",
    "\n",
    "for trainfile,testfile in zip(trainfile_list,testfile_list):\n",
    "    r, f, t = build_rocs(trainfile, testfile,basepath+modelpath)\n",
    "    \n",
    "    # Save\n",
    "    fd = open(basepath+roccurvesfile, \"wb\")\n",
    "    pickle.dump((r, f, t), fd)\n",
    "    fd.close()"
   ]
  },
  {
   "cell_type": "markdown",
   "metadata": {},
   "source": [
    "## plots"
   ]
  },
  {
   "cell_type": "code",
   "execution_count": null,
   "metadata": {},
   "outputs": [],
   "source": [
    "fd = open(basepath+roccurvesfile, \"rb\")\n",
    "r, f, t = pickle.load(fd)\n",
    "fd.close()\n",
    "\n",
    "\n",
    "plot_rocs(r, f, t, label=roccurvesfile)\n",
    "report_score(r, f, t, label=roccurvesfile)\n",
    "\n",
    "plot_show()"
   ]
  }
 ],
 "metadata": {
  "kernelspec": {
   "display_name": "Python 2",
   "language": "python",
   "name": "python2"
  },
  "language_info": {
   "codemirror_mode": {
    "name": "ipython",
    "version": 2
   },
   "file_extension": ".py",
   "mimetype": "text/x-python",
   "name": "python",
   "nbconvert_exporter": "python",
   "pygments_lexer": "ipython2",
   "version": "2.7.14"
  }
 },
 "nbformat": 4,
 "nbformat_minor": 2
}
