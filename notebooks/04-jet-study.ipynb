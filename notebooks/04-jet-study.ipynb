{
 "cells": [
  {
   "cell_type": "code",
   "execution_count": 1,
   "metadata": {
    "collapsed": true
   },
   "outputs": [],
   "source": [
    "import sys\n",
    "sys.path.append(\"..\")"
   ]
  },
  {
   "cell_type": "code",
   "execution_count": 2,
   "metadata": {
    "collapsed": true
   },
   "outputs": [],
   "source": [
    "import numpy as np\n",
    "np.seterr(divide=\"ignore\")\n",
    "import logging\n",
    "import pickle\n",
    "import glob\n",
    "\n",
    "import multiprocessing as mp\n",
    "\n",
    "\n",
    "from sklearn.metrics import roc_curve\n",
    "from sklearn.metrics import roc_auc_score\n",
    "from sklearn.preprocessing import RobustScaler\n",
    "from sklearn.utils import check_random_state\n",
    "\n",
    "from scipy import interp\n",
    "\n",
    "from recnn.preprocessing import rewrite_content\n",
    "from recnn.preprocessing import permute_by_pt\n",
    "from recnn.preprocessing import extract\n",
    "from recnn.preprocessing import sequentialize_by_pt\n",
    "from recnn.preprocessing import randomize\n",
    "from recnn.preprocessing import multithreadmap\n",
    "\n",
    "\n",
    "%matplotlib inline\n",
    "import matplotlib.pyplot as plt\n",
    "plt.rcParams[\"figure.figsize\"] = (6, 6)"
   ]
  },
  {
   "cell_type": "markdown",
   "metadata": {},
   "source": [
    "# Plotting functions"
   ]
  },
  {
   "cell_type": "code",
   "execution_count": 3,
   "metadata": {
    "collapsed": true
   },
   "outputs": [],
   "source": [
    "\n",
    "def load_tf(filename_train, preprocess=None, n_events_train=-1):\n",
    "    # Make training data\n",
    "    print(\"Loading training data...\")\n",
    "\n",
    "    fd = open(filename_train, \"rb\")\n",
    "    X, y = pickle.load(fd)\n",
    "    fd.close()\n",
    "    \n",
    "    y = np.array(y)\n",
    "    if n_events_train > 0:\n",
    "        indices = check_random_state(123).permutation(len(X))[:n_events_train]\n",
    "        X = [X[i] for i in indices]\n",
    "        y = y[indices]\n",
    "\n",
    "    print(\"\\tfilename = %s\" % filename_train)\n",
    "    print(\"\\tX size = %d\" % len(X))\n",
    "    print(\"\\ty size = %d\" % len(y))\n",
    "    X = np.array(X)\n",
    "    # Preprocessing \n",
    "    print(\"Preprocessing...\")\n",
    "    X = multithreadmap(rewrite_content,X)\n",
    "\n",
    "    if preprocess:\n",
    "        X = multithreadmap(preprocess,X)\n",
    "\n",
    "    X = multithreadmap(permute_by_pt,X)\n",
    "    X = multithreadmap(extract,X)\n",
    "    tf = RobustScaler().fit(np.vstack([jet[\"content\"] for jet in X]))\n",
    "    return tf\n",
    "\n",
    "def load_test(tf, filename_test, preprocess=None, cropping=False):\n",
    "    # Make test data \n",
    "    print(\"Loading test data...\")\n",
    "\n",
    "    fd = open(filename_test, \"rb\")\n",
    "    X, y = pickle.load(fd)\n",
    "    fd.close()\n",
    "    y = np.array(y)\n",
    "\n",
    "    print(\"\\tfilename = %s\" % filename_test)\n",
    "    print(\"\\tX size = %d\" % len(X))\n",
    "    print(\"\\ty size = %d\" % len(y))\n",
    "\n",
    "    # Preprocessing \n",
    "    print(\"Preprocessing...\")\n",
    "    X=np.array(X)\n",
    "    X = multithreadmap(rewrite_content,X)\n",
    "    \n",
    "    if preprocess:\n",
    "        X = multithreadmap(preprocess,X)\n",
    "        \n",
    "    X = multithreadmap(permute_by_pt,X)\n",
    "    X = multithreadmap(extract,X)\n",
    "\n",
    "    for jet in X:\n",
    "        jet[\"content\"] = tf.transform(jet[\"content\"])\n",
    "\n",
    "    if not cropping:\n",
    "        return X, y\n",
    "        \n",
    "    # Cropping\n",
    "    X_ = [j for j in X if 250 < j[\"pt\"] < 300 and 50 < j[\"mass\"] < 110]\n",
    "    y_ = [y[i] for i, j in enumerate(X) if 250 < j[\"pt\"] < 300 and 50 < j[\"mass\"] < 110]\n",
    "\n",
    "    X = X_\n",
    "    y = y_\n",
    "    y = np.array(y)\n",
    "    \n",
    "    print(\"\\tX size = %d\" % len(X))\n",
    "    print(\"\\ty size = %d\" % len(y))\n",
    "    \n",
    "    # Weights for flatness in pt\n",
    "    w = np.zeros(len(y))\n",
    "    \n",
    "    X0 = [X[i] for i in range(len(y)) if y[i] == 0]\n",
    "    pdf, edges = np.histogram([j[\"pt\"] for j in X0], density=True, range=[250, 300], bins=50)\n",
    "    pts = [j[\"pt\"] for j in X0]\n",
    "    indices = np.searchsorted(edges, pts) - 1\n",
    "    inv_w = 1. / pdf[indices]\n",
    "    inv_w /= inv_w.sum()\n",
    "    w[y==0] = inv_w\n",
    "        \n",
    "    X1 = [X[i] for i in range(len(y)) if y[i] == 1]\n",
    "    pdf, edges = np.histogram([j[\"pt\"] for j in X1], density=True, range=[250, 300], bins=50)\n",
    "    pts = [j[\"pt\"] for j in X1]\n",
    "    indices = np.searchsorted(edges, pts) - 1\n",
    "    inv_w = 1. / pdf[indices]\n",
    "    inv_w /= inv_w.sum()\n",
    "    w[y==1] = inv_w\n",
    "        \n",
    "    return X, y, w"
   ]
  },
  {
   "cell_type": "code",
   "execution_count": 4,
   "metadata": {
    "collapsed": true
   },
   "outputs": [],
   "source": [
    "from recnn.recnn import grnn_transform_simple\n",
    "from recnn.recnn import grnn_predict_simple\n",
    "from recnn.recnn import grnn_predict_gated\n",
    "#from recnn.recnn import grnn_predict_simple_join\n",
    "\n",
    "\n",
    "def predict(X, filename, func=grnn_predict_simple):\n",
    "    fd = open(filename, \"rb\")\n",
    "    params = pickle.load(fd)\n",
    "    fd.close()\n",
    "    y_pred = func(params, X)\n",
    "    return y_pred\n",
    "\n",
    "\n",
    "def evaluate_models(X, y, w, pattern, func=grnn_predict_simple):\n",
    "    rocs = []\n",
    "    fprs = []\n",
    "    tprs = []\n",
    "    \n",
    "    for filename in glob.glob(pattern):\n",
    "        print(\"Loading %s\" % filename),\n",
    "            \n",
    "        y_pred = predict(X, filename, func=func)\n",
    "        \n",
    "        # Roc\n",
    "        rocs.append(roc_auc_score(y, y_pred, sample_weight=w))\n",
    "        fpr, tpr, _ = roc_curve(y, y_pred, sample_weight=w)\n",
    "        \n",
    "        fprs.append(fpr)\n",
    "        tprs.append(tpr)\n",
    "        \n",
    "        print(\"ROC AUC = %.4f\" % rocs[-1])\n",
    "         \n",
    "    print(\"Mean ROC AUC = %.4f\" % np.mean(rocs))\n",
    "        \n",
    "    return rocs, fprs, tprs\n",
    "\n",
    "def build_rocs(prefix_train, prefix_test, model_pattern, preprocess=None, gated=False):\n",
    "    tf = load_tf(\"/data/conda/recnn/data/picklefiles/preprocessed_training_set_anti-kt_train.pickle\", preprocess=preprocess)\n",
    "    X, y, w = load_test(tf, \"/data/conda/recnn/data/picklefiles/preprocessed_training_set_anti-kt_test.pickle\", preprocess=preprocess) \n",
    "    \n",
    "    if not gated:\n",
    "        rocs, fprs, tprs = evaluate_models(X, y, w, \n",
    "                                           \"/data/conda/recnn/models/model_anti-kt.pickle\")\n",
    "    else:\n",
    "        rocs, fprs, tprs = evaluate_models(X, y, w, \n",
    "                                           \"/data/conda/recnn/models/model_anti-kt.pickle\", func=grnn_predict_gated)\n",
    "        \n",
    "    return rocs, fprs, tprs"
   ]
  },
  {
   "cell_type": "code",
   "execution_count": 5,
   "metadata": {
    "collapsed": true
   },
   "outputs": [],
   "source": [
    "def remove_outliers(rocs, fprs, tprs):\n",
    "    inv_fprs = []\n",
    "    base_tpr = np.linspace(0.05, 1, 476)\n",
    "\n",
    "    for fpr, tpr in zip(fprs, tprs):\n",
    "        inv_fpr = interp(base_tpr, tpr, 1. / fpr)\n",
    "        inv_fprs.append(inv_fpr)\n",
    "\n",
    "    inv_fprs = np.array(inv_fprs)\n",
    "    scores = inv_fprs[:, 225]\n",
    "    \n",
    "    p25 = np.percentile(scores, 1 / 6. * 100.)\n",
    "    p75 = np.percentile(scores, 5 / 6. * 100)\n",
    "    \n",
    "    robust_mean = np.mean([scores[i] for i in range(len(scores)) if p25 <= scores[i] <= p75])\n",
    "    robust_std = np.std([scores[i] for i in range(len(scores)) if p25 <= scores[i] <= p75])\n",
    "    \n",
    "    indices = [i for i in range(len(scores)) if robust_mean - 3*robust_std <= scores[i] <= robust_mean + 3*robust_std]\n",
    "    \n",
    "    new_r, new_f, new_t = [], [], []\n",
    "    \n",
    "    for i in indices:\n",
    "        new_r.append(rocs[i])\n",
    "        new_f.append(fprs[i])\n",
    "        new_t.append(tprs[i])\n",
    "    \n",
    "    return new_r, new_f, new_t\n",
    "\n",
    "\n",
    "def report_score(rocs, fprs, tprs, label, latex=False, input=\"particles\", short=False):       \n",
    "    inv_fprs = []\n",
    "    base_tpr = np.linspace(0.05, 1, 476)\n",
    "    \n",
    "    for fpr, tpr in zip(fprs, tprs):\n",
    "        inv_fpr = interp(base_tpr, tpr, 1. / fpr)\n",
    "        inv_fprs.append(inv_fpr)\n",
    "        \n",
    "    inv_fprs = np.array(inv_fprs)\n",
    "    mean_inv_fprs = inv_fprs.mean(axis=0)\n",
    "    \n",
    "    if not latex:\n",
    "        print(\"%32s\\tROC AUC=%.4f+-%.2f\\t1/FPR@TPR=0.5=%.2f+-%.2f\" %  (label, \n",
    "                                                                       np.mean(rocs), \n",
    "                                                                       np.std(rocs),\n",
    "                                                                       np.mean(inv_fprs[:, 225]),\n",
    "                                                                       np.std(inv_fprs[:, 225])))\n",
    "    else:\n",
    "        if not short:\n",
    "            print(\"%10s \\t& %30s \\t& %.4f $\\pm$ %.4f \\t& %.1f $\\pm$ %.1f \\\\\\\\\" % \n",
    "                  (input,\n",
    "                   label,\n",
    "                   np.mean(rocs), \n",
    "                   np.std(rocs),\n",
    "                   np.mean(inv_fprs[:, 225]),\n",
    "                   np.std(inv_fprs[:, 225])))\n",
    "        else:\n",
    "            print(\"%30s \\t& %.4f $\\pm$ %.4f \\t& %.1f $\\pm$ %.1f \\\\\\\\\" % \n",
    "                  (label,\n",
    "                   np.mean(rocs), \n",
    "                   np.std(rocs),\n",
    "                   np.mean(inv_fprs[:, 225]),\n",
    "                   np.std(inv_fprs[:, 225])))\n",
    "        \n",
    "def plot_rocs(rocs, fprs, tprs, label=\"\", color=\"r\", show_all=False):\n",
    "    inv_fprs = []\n",
    "    base_tpr = np.linspace(0.05, 1, 476)\n",
    "    \n",
    "    for fpr, tpr in zip(fprs, tprs):\n",
    "        inv_fpr = interp(base_tpr, tpr, 1. / fpr)\n",
    "        inv_fprs.append(inv_fpr)\n",
    "        if show_all:\n",
    "            plt.plot(base_tpr, inv_fpr, alpha=0.1, color=color)\n",
    "        \n",
    "    inv_fprs = np.array(inv_fprs)\n",
    "    mean_inv_fprs = inv_fprs.mean(axis=0)\n",
    "\n",
    "\n",
    "    plt.plot(base_tpr, mean_inv_fprs, color, \n",
    "             label=\"%s\" % label)\n",
    "    \n",
    "def plot_show(filename=None):\n",
    "    plt.xlabel(\"Signal efficiency\")\n",
    "    plt.ylabel(\"1 / Background efficiency\")\n",
    "    plt.xlim([0.1, 1.0])\n",
    "    plt.ylim(1, 500)\n",
    "    plt.yscale(\"log\")\n",
    "    plt.legend(loc=\"best\")\n",
    "    plt.grid()\n",
    "    \n",
    "    if filename:\n",
    "        plt.savefig(filename)\n",
    "    \n",
    "    plt.show()"
   ]
  },
  {
   "cell_type": "markdown",
   "metadata": {},
   "source": [
    "# Count parameters"
   ]
  },
  {
   "cell_type": "code",
   "execution_count": 6,
   "metadata": {},
   "outputs": [
    {
     "name": "stdout",
     "output_type": "stream",
     "text": [
      "('Simple =', 48761)\n"
     ]
    }
   ],
   "source": [
    "def count(params):\n",
    "    def _count(thing):\n",
    "        if isinstance(thing, list):\n",
    "            c = 0\n",
    "            for stuff in thing:\n",
    "                c += _count(stuff)\n",
    "            return c \n",
    "\n",
    "        elif isinstance(thing, np.ndarray):\n",
    "            return np.prod(thing.shape)\n",
    "    \n",
    "    c = 0\n",
    "    for k, v in params.items():\n",
    "        c += _count(v)\n",
    "    return c\n",
    "    \n",
    "# Simple vs gated\n",
    "fd = open(\"/data/conda/recnn/models/model_anti-kt.pickle\", \"rb\")\n",
    "params = pickle.load(fd)\n",
    "fd.close()\n",
    "print(\"Simple =\", count(params))   \n",
    "\n",
    "#fd = open(\"../models/jet-study-2/model-w-g-antikt-kt-1.pickle\", \"rb\")\n",
    "#params = pickle.load(fd)\n",
    "#fd.close()\n",
    "#print(\"Gated =\", count(params))"
   ]
  },
  {
   "cell_type": "code",
   "execution_count": 7,
   "metadata": {},
   "outputs": [
    {
     "name": "stdout",
     "output_type": "stream",
     "text": [
      "('Simple =', 48761)\n"
     ]
    }
   ],
   "source": [
    "# double\n",
    "# Simple vs gated\n",
    "fd = open(\"/data/conda/recnn/models/model_anti-kt.pickle\", \"rb\")\n",
    "params = pickle.load(fd)\n",
    "fd.close()\n",
    "print(\"Simple =\", count(params))   \n",
    "\n",
    "#fd = open(\"../models/jet-study-2/model-w-gd-antikt-kt-1.pickle\", \"rb\")\n",
    "#params = pickle.load(fd)\n",
    "#fd.close()\n",
    "#print(\"Gated =\", count(params))"
   ]
  },
  {
   "cell_type": "markdown",
   "metadata": {},
   "source": [
    "# Embedding visualization"
   ]
  },
  {
   "cell_type": "code",
   "execution_count": 8,
   "metadata": {},
   "outputs": [
    {
     "name": "stdout",
     "output_type": "stream",
     "text": [
      "Loading training data...\n",
      "\tfilename = /data/conda/recnn/data/picklefiles/preprocessed_training_set_anti-kt_train.pickle\n",
      "\tX size = 68292\n",
      "\ty size = 68292\n",
      "Preprocessing...\n",
      "Loading test data...\n",
      "\tfilename = /data/conda/recnn/data/picklefiles/preprocessed_training_set_anti-kt_test.pickle\n",
      "\tX size = 68292\n",
      "\ty size = 68292\n",
      "Preprocessing...\n",
      "\tX size = 1\n",
      "\ty size = 1\n"
     ]
    },
    {
     "name": "stderr",
     "output_type": "stream",
     "text": [
      "/opt/deeplearning/anaconda/lib/python2.7/site-packages/numpy/lib/function_base.py:817: RuntimeWarning: invalid value encountered in true_divide\n",
      "  return n/db/n.sum(), bins\n"
     ]
    }
   ],
   "source": [
    "prefix_train = \"antikt-kt\"\n",
    "prefix_test = prefix_train\n",
    "tf = load_tf(\"/data/conda/recnn/data/picklefiles/preprocessed_training_set_anti-kt_train.pickle\")\n",
    "X, y = load_test(tf, \"/data/conda/recnn/data/picklefiles/preprocessed_training_set_anti-kt_test.pickle\")"
   ]
  },
  {
   "cell_type": "code",
   "execution_count": 9,
   "metadata": {
    "collapsed": true
   },
   "outputs": [],
   "source": [
    "fd = open(\"/data/conda/recnn/models/model_anti-kt.pickle\", \"rb\")\n",
    "params = pickle.load(fd)\n",
    "fd.close()"
   ]
  },
  {
   "cell_type": "code",
   "execution_count": 13,
   "metadata": {},
   "outputs": [
    {
     "data": {
      "text/plain": [
       "array([[  6.36025431e+07,   4.35780762e+08,   3.65355405e+08,\n",
       "          3.24438219e+08,   0.00000000e+00,   0.00000000e+00,\n",
       "          2.36103805e+08,   1.40441477e+08,   2.24830352e+08,\n",
       "          1.66460052e+08,   2.01335096e+08,   1.16992492e+08,\n",
       "          2.31210992e+08,   1.95035805e+08,   1.47787769e+08,\n",
       "          0.00000000e+00,   2.60027677e+08,   9.44053493e+05,\n",
       "          1.02133930e+08,   1.30419851e+08,   1.38373573e+08,\n",
       "          2.59739314e+08,   2.97601453e+08,   2.55114661e+08,\n",
       "          0.00000000e+00,   2.13040468e+08,   1.12669332e+08,\n",
       "          0.00000000e+00,   2.24873308e+08,   4.07193924e+08,\n",
       "          2.30536259e+08,   3.12712187e+07,   2.34647150e+08,\n",
       "          1.75858025e+08,   1.67954904e+08,   8.80567739e+07,\n",
       "          2.17127699e+08,   0.00000000e+00,   3.58928827e+08,\n",
       "          9.39897985e+07]])"
      ]
     },
     "execution_count": 13,
     "metadata": {},
     "output_type": "execute_result"
    }
   ],
   "source": [
    "Xt = grnn_transform_simple(params, X[:5000])\n",
    "Xt"
   ]
  },
  {
   "cell_type": "code",
   "execution_count": 14,
   "metadata": {},
   "outputs": [
    {
     "ename": "ValueError",
     "evalue": "Expected n_neighbors > 0. Got 0",
     "output_type": "error",
     "traceback": [
      "\u001b[0;31m---------------------------------------------------------------------------\u001b[0m",
      "\u001b[0;31mValueError\u001b[0m                                Traceback (most recent call last)",
      "\u001b[0;32m<ipython-input-14-cb82c3c10314>\u001b[0m in \u001b[0;36m<module>\u001b[0;34m()\u001b[0m\n\u001b[1;32m      1\u001b[0m \u001b[0;32mfrom\u001b[0m \u001b[0msklearn\u001b[0m\u001b[0;34m.\u001b[0m\u001b[0mmanifold\u001b[0m \u001b[0;32mimport\u001b[0m \u001b[0mTSNE\u001b[0m\u001b[0;34m\u001b[0m\u001b[0m\n\u001b[0;32m----> 2\u001b[0;31m \u001b[0mXtt\u001b[0m \u001b[0;34m=\u001b[0m \u001b[0mTSNE\u001b[0m\u001b[0;34m(\u001b[0m\u001b[0mn_components\u001b[0m\u001b[0;34m=\u001b[0m\u001b[0;36m2\u001b[0m\u001b[0;34m)\u001b[0m\u001b[0;34m.\u001b[0m\u001b[0mfit_transform\u001b[0m\u001b[0;34m(\u001b[0m\u001b[0mXt\u001b[0m\u001b[0;34m)\u001b[0m\u001b[0;34m\u001b[0m\u001b[0m\n\u001b[0m",
      "\u001b[0;32m/opt/deeplearning/anaconda/lib/python2.7/site-packages/sklearn/manifold/t_sne.pyc\u001b[0m in \u001b[0;36mfit_transform\u001b[0;34m(self, X, y)\u001b[0m\n\u001b[1;32m    856\u001b[0m             \u001b[0mEmbedding\u001b[0m \u001b[0mof\u001b[0m \u001b[0mthe\u001b[0m \u001b[0mtraining\u001b[0m \u001b[0mdata\u001b[0m \u001b[0;32min\u001b[0m \u001b[0mlow\u001b[0m\u001b[0;34m-\u001b[0m\u001b[0mdimensional\u001b[0m \u001b[0mspace\u001b[0m\u001b[0;34m.\u001b[0m\u001b[0;34m\u001b[0m\u001b[0m\n\u001b[1;32m    857\u001b[0m         \"\"\"\n\u001b[0;32m--> 858\u001b[0;31m         \u001b[0membedding\u001b[0m \u001b[0;34m=\u001b[0m \u001b[0mself\u001b[0m\u001b[0;34m.\u001b[0m\u001b[0m_fit\u001b[0m\u001b[0;34m(\u001b[0m\u001b[0mX\u001b[0m\u001b[0;34m)\u001b[0m\u001b[0;34m\u001b[0m\u001b[0m\n\u001b[0m\u001b[1;32m    859\u001b[0m         \u001b[0mself\u001b[0m\u001b[0;34m.\u001b[0m\u001b[0membedding_\u001b[0m \u001b[0;34m=\u001b[0m \u001b[0membedding\u001b[0m\u001b[0;34m\u001b[0m\u001b[0m\n\u001b[1;32m    860\u001b[0m         \u001b[0;32mreturn\u001b[0m \u001b[0mself\u001b[0m\u001b[0;34m.\u001b[0m\u001b[0membedding_\u001b[0m\u001b[0;34m\u001b[0m\u001b[0m\n",
      "\u001b[0;32m/opt/deeplearning/anaconda/lib/python2.7/site-packages/sklearn/manifold/t_sne.pyc\u001b[0m in \u001b[0;36m_fit\u001b[0;34m(self, X, skip_num_points)\u001b[0m\n\u001b[1;32m    715\u001b[0m                                    metric=self.metric)\n\u001b[1;32m    716\u001b[0m             \u001b[0mt0\u001b[0m \u001b[0;34m=\u001b[0m \u001b[0mtime\u001b[0m\u001b[0;34m(\u001b[0m\u001b[0;34m)\u001b[0m\u001b[0;34m\u001b[0m\u001b[0m\n\u001b[0;32m--> 717\u001b[0;31m             \u001b[0mknn\u001b[0m\u001b[0;34m.\u001b[0m\u001b[0mfit\u001b[0m\u001b[0;34m(\u001b[0m\u001b[0mX\u001b[0m\u001b[0;34m)\u001b[0m\u001b[0;34m\u001b[0m\u001b[0m\n\u001b[0m\u001b[1;32m    718\u001b[0m             \u001b[0mduration\u001b[0m \u001b[0;34m=\u001b[0m \u001b[0mtime\u001b[0m\u001b[0;34m(\u001b[0m\u001b[0;34m)\u001b[0m \u001b[0;34m-\u001b[0m \u001b[0mt0\u001b[0m\u001b[0;34m\u001b[0m\u001b[0m\n\u001b[1;32m    719\u001b[0m             \u001b[0;32mif\u001b[0m \u001b[0mself\u001b[0m\u001b[0;34m.\u001b[0m\u001b[0mverbose\u001b[0m\u001b[0;34m:\u001b[0m\u001b[0;34m\u001b[0m\u001b[0m\n",
      "\u001b[0;32m/opt/deeplearning/anaconda/lib/python2.7/site-packages/sklearn/neighbors/base.pyc\u001b[0m in \u001b[0;36mfit\u001b[0;34m(self, X, y)\u001b[0m\n\u001b[1;32m    801\u001b[0m             \u001b[0;32mor\u001b[0m \u001b[0;34m[\u001b[0m\u001b[0mn_samples\u001b[0m\u001b[0;34m,\u001b[0m \u001b[0mn_samples\u001b[0m\u001b[0;34m]\u001b[0m \u001b[0;32mif\u001b[0m \u001b[0mmetric\u001b[0m\u001b[0;34m=\u001b[0m\u001b[0;34m'precomputed'\u001b[0m\u001b[0;34m.\u001b[0m\u001b[0;34m\u001b[0m\u001b[0m\n\u001b[1;32m    802\u001b[0m         \"\"\"\n\u001b[0;32m--> 803\u001b[0;31m         \u001b[0;32mreturn\u001b[0m \u001b[0mself\u001b[0m\u001b[0;34m.\u001b[0m\u001b[0m_fit\u001b[0m\u001b[0;34m(\u001b[0m\u001b[0mX\u001b[0m\u001b[0;34m)\u001b[0m\u001b[0;34m\u001b[0m\u001b[0m\n\u001b[0m",
      "\u001b[0;32m/opt/deeplearning/anaconda/lib/python2.7/site-packages/sklearn/neighbors/base.pyc\u001b[0m in \u001b[0;36m_fit\u001b[0;34m(self, X)\u001b[0m\n\u001b[1;32m    257\u001b[0m                 raise ValueError(\n\u001b[1;32m    258\u001b[0m                     \u001b[0;34m\"Expected n_neighbors > 0. Got %d\"\u001b[0m \u001b[0;34m%\u001b[0m\u001b[0;34m\u001b[0m\u001b[0m\n\u001b[0;32m--> 259\u001b[0;31m                     \u001b[0mself\u001b[0m\u001b[0;34m.\u001b[0m\u001b[0mn_neighbors\u001b[0m\u001b[0;34m\u001b[0m\u001b[0m\n\u001b[0m\u001b[1;32m    260\u001b[0m                 )\n\u001b[1;32m    261\u001b[0m \u001b[0;34m\u001b[0m\u001b[0m\n",
      "\u001b[0;31mValueError\u001b[0m: Expected n_neighbors > 0. Got 0"
     ]
    }
   ],
   "source": [
    "from sklearn.manifold import TSNE\n",
    "Xtt = TSNE(n_components=2).fit_transform(Xt)"
   ]
  },
  {
   "cell_type": "code",
   "execution_count": 12,
   "metadata": {},
   "outputs": [
    {
     "ename": "NameError",
     "evalue": "name 'Xtt' is not defined",
     "output_type": "error",
     "traceback": [
      "\u001b[0;31m---------------------------------------------------------------------------\u001b[0m",
      "\u001b[0;31mNameError\u001b[0m                                 Traceback (most recent call last)",
      "\u001b[0;32m<ipython-input-12-f98f1ebe954c>\u001b[0m in \u001b[0;36m<module>\u001b[0;34m()\u001b[0m\n\u001b[1;32m      1\u001b[0m \u001b[0mfig\u001b[0m\u001b[0;34m=\u001b[0m\u001b[0mplt\u001b[0m\u001b[0;34m.\u001b[0m\u001b[0mfigure\u001b[0m\u001b[0;34m(\u001b[0m\u001b[0;34m)\u001b[0m\u001b[0;34m\u001b[0m\u001b[0m\n\u001b[1;32m      2\u001b[0m \u001b[0;32mfor\u001b[0m \u001b[0mi\u001b[0m \u001b[0;32min\u001b[0m \u001b[0mrange\u001b[0m\u001b[0;34m(\u001b[0m\u001b[0;36m5000\u001b[0m\u001b[0;34m)\u001b[0m\u001b[0;34m:\u001b[0m\u001b[0;34m\u001b[0m\u001b[0m\n\u001b[0;32m----> 3\u001b[0;31m     \u001b[0mplt\u001b[0m\u001b[0;34m.\u001b[0m\u001b[0mscatter\u001b[0m\u001b[0;34m(\u001b[0m\u001b[0mXtt\u001b[0m\u001b[0;34m[\u001b[0m\u001b[0mi\u001b[0m\u001b[0;34m,\u001b[0m \u001b[0;36m0\u001b[0m\u001b[0;34m]\u001b[0m\u001b[0;34m,\u001b[0m \u001b[0mXtt\u001b[0m\u001b[0;34m[\u001b[0m\u001b[0mi\u001b[0m\u001b[0;34m,\u001b[0m \u001b[0;36m1\u001b[0m\u001b[0;34m]\u001b[0m\u001b[0;34m,\u001b[0m \u001b[0mcolor\u001b[0m\u001b[0;34m=\u001b[0m\u001b[0;34m\"b\"\u001b[0m \u001b[0;32mif\u001b[0m \u001b[0my\u001b[0m\u001b[0;34m[\u001b[0m\u001b[0mi\u001b[0m\u001b[0;34m]\u001b[0m \u001b[0;34m==\u001b[0m \u001b[0;36m1\u001b[0m \u001b[0;32melse\u001b[0m \u001b[0;34m\"r\"\u001b[0m\u001b[0;34m,\u001b[0m \u001b[0malpha\u001b[0m\u001b[0;34m=\u001b[0m\u001b[0;36m0.5\u001b[0m\u001b[0;34m)\u001b[0m\u001b[0;34m\u001b[0m\u001b[0m\n\u001b[0m\u001b[1;32m      4\u001b[0m \u001b[0;34m\u001b[0m\u001b[0m\n\u001b[1;32m      5\u001b[0m \u001b[0mfig\u001b[0m\u001b[0;34m.\u001b[0m\u001b[0mset_size_inches\u001b[0m\u001b[0;34m(\u001b[0m\u001b[0;36m6.69291\u001b[0m\u001b[0;34m,\u001b[0m\u001b[0;36m4\u001b[0m\u001b[0;34m)\u001b[0m\u001b[0;34m\u001b[0m\u001b[0m\n",
      "\u001b[0;31mNameError\u001b[0m: name 'Xtt' is not defined"
     ]
    },
    {
     "data": {
      "text/plain": [
       "<matplotlib.figure.Figure at 0x7f0b74f3ab10>"
      ]
     },
     "metadata": {},
     "output_type": "display_data"
    }
   ],
   "source": [
    "fig=plt.figure()\n",
    "for i in range(5000):\n",
    "    plt.scatter(Xtt[i, 0], Xtt[i, 1], color=\"b\" if y[i] == 1 else \"r\", alpha=0.5)\n",
    "\n",
    "fig.set_size_inches(6.69291,4)\n",
    "plt.savefig(\"test.png\",dpi=600)\n",
    "plt.show()"
   ]
  },
  {
   "cell_type": "code",
   "execution_count": 28,
   "metadata": {},
   "outputs": [
    {
     "data": {
      "image/png": "[encoded data removed]",
      "text/plain": [
       "<matplotlib.figure.Figure at 0x7f9aa4544150>"
      ]
     },
     "metadata": {},
     "output_type": "display_data"
    }
   ],
   "source": [
    "from sklearn.decomposition import PCA\n",
    "Xtt = PCA(n_components=2).fit_transform(Xt)\n",
    "fig=plt.figure()\n",
    "\n",
    "for i in range(5000):\n",
    "    plt.scatter(Xtt[i, 0], Xtt[i, 1], color=\"b\" if y[i] == 1 else \"r\", alpha=0.5)\n",
    "fig.set_size_inches(6.69291,4)\n",
    "plt.savefig(\"test2.png\",dpi=600)\n",
    "plt.show()"
   ]
  },
  {
   "cell_type": "markdown",
   "metadata": {},
   "source": [
    "# Generate all ROCs"
   ]
  },
  {
   "cell_type": "code",
   "execution_count": 29,
   "metadata": {
    "scrolled": false
   },
   "outputs": [
    {
     "name": "stdout",
     "output_type": "stream",
     "text": [
      "Loading training data...\n",
      "\tfilename = ../data/w-vs-qcd/final/antikt-kt-train.pickle\n",
      "\tX size = 100000\n",
      "\ty size = 100000\n",
      "Preprocessing...\n",
      "Loading test data...\n",
      "\tfilename = ../data/w-vs-qcd/final/antikt-kt-test.pickle\n",
      "\tX size = 100000\n",
      "\ty size = 100000\n",
      "Preprocessing...\n",
      "\tX size = 37972\n",
      "\ty size = 37972\n",
      "Loading /data/cbernet/DeepLearning/recnn/models/model.pickle ROC AUC = 0.9194\n",
      "Mean ROC AUC = 0.9194\n"
     ]
    }
   ],
   "source": [
    "for pattern, gated in [\n",
    "        # Simple\n",
    "        ## Particles\n",
    "        #(\"antikt-kt\", False),\n",
    "        #(\"antikt-cambridge\", False),\n",
    "        #(\"antikt-antikt\", False),\n",
    "        #(\"antikt-random\", False),\n",
    "        #(\"antikt-seqpt\", False),\n",
    "        #(\"antikt-seqpt-reversed\", False),\n",
    "        ## Towers\n",
    "        #(\"antikt-kt-delphes\", False),\n",
    "        #(\"antikt-cambridge-delphes\", False),\n",
    "        #(\"antikt-antikt-delphes\", False),\n",
    "        #(\"antikt-random-delphes\", False),\n",
    "        #(\"antikt-seqpt-delphes\", False),\n",
    "        #(\"antikt-seqpt-reversed-delphes\", False),\n",
    "        ## Images\n",
    "        #(\"antikt-kt-images\", False),\n",
    "\n",
    "        # Gated\n",
    "        ## Particles\n",
    "        (\"antikt-kt\", True),\n",
    "        #(\"antikt-antikt\", True),\n",
    "        #(\"antikt-seqpt\", True),\n",
    "        #(\"antikt-seqpt-reversed\", True),\n",
    "        #(\"antikt-cambridge\", True),\n",
    "        #(\"antikt-random\", True),\n",
    "        ## Towers\n",
    "        #(\"antikt-kt-delphes\", True),\n",
    "        #(\"antikt-antikt-delphes\", True),\n",
    "        #(\"antikt-seqpt-delphes\", True),\n",
    "        #(\"antikt-seqpt-reversed-delphes\", True),\n",
    "        #(\"antikt-cambridge-delphes\", True),\n",
    "        #(\"antikt-random-delphes\", True),\n",
    "        ## Images\n",
    "        #(\"antikt-kt-images\", True)\n",
    "    ]:\n",
    "    r, f, t = build_rocs(pattern, pattern, pattern, gated=gated)\n",
    "    \n",
    "    # Save\n",
    "    fd = open(\"/data/conda/recnn/models/model_anti-kt.pickle\", \"wb\")\n",
    "    pickle.dump((r, f, t), fd)\n",
    "    fd.close()"
   ]
  },
  {
   "cell_type": "code",
   "execution_count": null,
   "metadata": {
    "collapsed": true
   },
   "outputs": [],
   "source": []
  },
  {
   "cell_type": "code",
   "execution_count": 30,
   "metadata": {
    "scrolled": true
   },
   "outputs": [
    {
     "name": "stdout",
     "output_type": "stream",
     "text": [
      "Loading training data...\n",
      "\tfilename = ../data/w-vs-qcd/final/antikt-kt-train.pickle\n",
      "\tX size = 100000\n",
      "\ty size = 100000\n",
      "Preprocessing...\n",
      "Loading test data...\n",
      "\tfilename = ../data/w-vs-qcd/final/antikt-kt-test.pickle\n",
      "\tX size = 100000\n",
      "\ty size = 100000\n",
      "Preprocessing...\n",
      "\tX size = 37972\n",
      "\ty size = 37972\n",
      "Mean ROC AUC = nan\n",
      "Loading training data...\n"
     ]
    },
    {
     "ename": "IOError",
     "evalue": "[Errno 2] No such file or directory: '../data/w-vs-qcd/final/antikt-kt-delphes-train.pickle'",
     "output_type": "error",
     "traceback": [
      "\u001b[0;31m---------------------------------------------------------------------------\u001b[0m",
      "\u001b[0;31mIOError\u001b[0m                                   Traceback (most recent call last)",
      "\u001b[0;32m<ipython-input-30-ab349ab0fe41>\u001b[0m in \u001b[0;36m<module>\u001b[0;34m()\u001b[0m\n\u001b[1;32m     17\u001b[0m         \u001b[0;34m(\u001b[0m\u001b[0;34m\"antikt-kt-images\"\u001b[0m\u001b[0;34m,\u001b[0m \u001b[0mTrue\u001b[0m\u001b[0;34m)\u001b[0m\u001b[0;34m\u001b[0m\u001b[0m\n\u001b[1;32m     18\u001b[0m     ]:\n\u001b[0;32m---> 19\u001b[0;31m     \u001b[0mr\u001b[0m\u001b[0;34m,\u001b[0m \u001b[0mf\u001b[0m\u001b[0;34m,\u001b[0m \u001b[0mt\u001b[0m \u001b[0;34m=\u001b[0m \u001b[0mbuild_rocs\u001b[0m\u001b[0;34m(\u001b[0m\u001b[0mpattern\u001b[0m\u001b[0;34m,\u001b[0m \u001b[0mpattern\u001b[0m\u001b[0;34m,\u001b[0m \u001b[0mpattern\u001b[0m\u001b[0;34m,\u001b[0m \u001b[0mgated\u001b[0m\u001b[0;34m=\u001b[0m\u001b[0mgated\u001b[0m\u001b[0;34m)\u001b[0m\u001b[0;34m\u001b[0m\u001b[0m\n\u001b[0m\u001b[1;32m     20\u001b[0m \u001b[0;34m\u001b[0m\u001b[0m\n\u001b[1;32m     21\u001b[0m     \u001b[0;31m# Save\u001b[0m\u001b[0;34m\u001b[0m\u001b[0;34m\u001b[0m\u001b[0m\n",
      "\u001b[0;32m<ipython-input-19-375af0c28cdc>\u001b[0m in \u001b[0;36mbuild_rocs\u001b[0;34m(prefix_train, prefix_test, model_pattern, preprocess, gated)\u001b[0m\n\u001b[1;32m     37\u001b[0m \u001b[0;34m\u001b[0m\u001b[0m\n\u001b[1;32m     38\u001b[0m \u001b[0;32mdef\u001b[0m \u001b[0mbuild_rocs\u001b[0m\u001b[0;34m(\u001b[0m\u001b[0mprefix_train\u001b[0m\u001b[0;34m,\u001b[0m \u001b[0mprefix_test\u001b[0m\u001b[0;34m,\u001b[0m \u001b[0mmodel_pattern\u001b[0m\u001b[0;34m,\u001b[0m \u001b[0mpreprocess\u001b[0m\u001b[0;34m=\u001b[0m\u001b[0mNone\u001b[0m\u001b[0;34m,\u001b[0m \u001b[0mgated\u001b[0m\u001b[0;34m=\u001b[0m\u001b[0mFalse\u001b[0m\u001b[0;34m)\u001b[0m\u001b[0;34m:\u001b[0m\u001b[0;34m\u001b[0m\u001b[0m\n\u001b[0;32m---> 39\u001b[0;31m     \u001b[0mtf\u001b[0m \u001b[0;34m=\u001b[0m \u001b[0mload_tf\u001b[0m\u001b[0;34m(\u001b[0m\u001b[0;34m\"../data/w-vs-qcd/final/%s-train.pickle\"\u001b[0m \u001b[0;34m%\u001b[0m \u001b[0mprefix_train\u001b[0m\u001b[0;34m,\u001b[0m \u001b[0mpreprocess\u001b[0m\u001b[0;34m=\u001b[0m\u001b[0mpreprocess\u001b[0m\u001b[0;34m)\u001b[0m\u001b[0;34m\u001b[0m\u001b[0m\n\u001b[0m\u001b[1;32m     40\u001b[0m     \u001b[0mX\u001b[0m\u001b[0;34m,\u001b[0m \u001b[0my\u001b[0m\u001b[0;34m,\u001b[0m \u001b[0mw\u001b[0m \u001b[0;34m=\u001b[0m \u001b[0mload_test\u001b[0m\u001b[0;34m(\u001b[0m\u001b[0mtf\u001b[0m\u001b[0;34m,\u001b[0m \u001b[0;34m\"../data/w-vs-qcd/final/%s-test.pickle\"\u001b[0m \u001b[0;34m%\u001b[0m \u001b[0mprefix_test\u001b[0m\u001b[0;34m,\u001b[0m \u001b[0mpreprocess\u001b[0m\u001b[0;34m=\u001b[0m\u001b[0mpreprocess\u001b[0m\u001b[0;34m)\u001b[0m\u001b[0;34m\u001b[0m\u001b[0m\n\u001b[1;32m     41\u001b[0m \u001b[0;34m\u001b[0m\u001b[0m\n",
      "\u001b[0;32m<ipython-input-3-6f15f32e4b1a>\u001b[0m in \u001b[0;36mload_tf\u001b[0;34m(filename_train, preprocess, n_events_train)\u001b[0m\n\u001b[1;32m      6\u001b[0m     \u001b[0;32mprint\u001b[0m\u001b[0;34m(\u001b[0m\u001b[0;34m\"Loading training data...\"\u001b[0m\u001b[0;34m)\u001b[0m\u001b[0;34m\u001b[0m\u001b[0m\n\u001b[1;32m      7\u001b[0m \u001b[0;34m\u001b[0m\u001b[0m\n\u001b[0;32m----> 8\u001b[0;31m     \u001b[0mfd\u001b[0m \u001b[0;34m=\u001b[0m \u001b[0mopen\u001b[0m\u001b[0;34m(\u001b[0m\u001b[0mfilename_train\u001b[0m\u001b[0;34m,\u001b[0m \u001b[0;34m\"rb\"\u001b[0m\u001b[0;34m)\u001b[0m\u001b[0;34m\u001b[0m\u001b[0m\n\u001b[0m\u001b[1;32m      9\u001b[0m     \u001b[0mX\u001b[0m\u001b[0;34m,\u001b[0m \u001b[0my\u001b[0m \u001b[0;34m=\u001b[0m \u001b[0mpickle\u001b[0m\u001b[0;34m.\u001b[0m\u001b[0mload\u001b[0m\u001b[0;34m(\u001b[0m\u001b[0mfd\u001b[0m\u001b[0;34m)\u001b[0m\u001b[0;34m\u001b[0m\u001b[0m\n\u001b[1;32m     10\u001b[0m     \u001b[0mfd\u001b[0m\u001b[0;34m.\u001b[0m\u001b[0mclose\u001b[0m\u001b[0;34m(\u001b[0m\u001b[0;34m)\u001b[0m\u001b[0;34m\u001b[0m\u001b[0m\n",
      "\u001b[0;31mIOError\u001b[0m: [Errno 2] No such file or directory: '../data/w-vs-qcd/final/antikt-kt-delphes-train.pickle'"
     ]
    }
   ],
   "source": [
    "# sd/gd == contatenate embeddings of h1_L + h1_R\n",
    "for pattern, gated in [\n",
    "        # Simple\n",
    "        ## Particles\n",
    "        (\"antikt-kt\", False),\n",
    "        ## Towers\n",
    "        (\"antikt-kt-delphes\", False),\n",
    "        ## Images\n",
    "        (\"antikt-kt-images\", False),\n",
    "\n",
    "        # Gated\n",
    "        ## Particles\n",
    "        (\"antikt-kt\", True),\n",
    "        ## Towers\n",
    "        (\"antikt-kt-delphes\", True),\n",
    "        ## Images\n",
    "        (\"antikt-kt-images\", True)\n",
    "    ]:\n",
    "    r, f, t = build_rocs(pattern, pattern, pattern, gated=gated)\n",
    "    \n",
    "    # Save\n",
    "    fd = open(\"../model.pickle\", \"wb\")\n",
    "    pickle.dump((r, f, t), fd)\n",
    "    fd.close()"
   ]
  },
  {
   "cell_type": "markdown",
   "metadata": {},
   "source": [
    "# Table"
   ]
  },
  {
   "cell_type": "code",
   "execution_count": null,
   "metadata": {
    "collapsed": true
   },
   "outputs": [],
   "source": [
    "for pattern, gated, label in [\n",
    "        # Simple\n",
    "        ## Particles\n",
    "        (\"antikt-kt\", False, \"RNN $k_t$\"),\n",
    "        (\"antikt-cambridge\", False, \"RNN C/A\"),\n",
    "        (\"antikt-antikt\", False, \"RNN anti-$k_t$\"),\n",
    "        (\"antikt-random\", False, \"RNN random\"),\n",
    "        (\"antikt-seqpt\", False, \"RNN asc-$p_T$\"),\n",
    "        (\"antikt-seqpt-reversed\", False, \"RNN desc-$p_T$\"),\n",
    "        ## Towers\n",
    "        (\"antikt-kt-delphes\", False, \"RNN $k_t$\"),\n",
    "        (\"antikt-cambridge-delphes\", False, \"RNN C/A\"),\n",
    "        (\"antikt-antikt-delphes\", False, \"RNN anti-$k_t$\"),\n",
    "        (\"antikt-random-delphes\", False, \"RNN random\"),\n",
    "        (\"antikt-seqpt-delphes\", False, \"RNN asc-$p_T$\"),\n",
    "        (\"antikt-seqpt-reversed-delphes\", False, \"RNN desc-$p_T$\"),\n",
    "        ## Images\n",
    "        (\"antikt-kt-images\", False, \"RNN $k_t$\"),\n",
    "\n",
    "        # Gated\n",
    "        ## Particles\n",
    "        (\"antikt-kt\", True, \"RNN $k_t$ (gated)\"),\n",
    "        (\"antikt-cambridge\", True, \"RNN C/A (gated)\"),\n",
    "        (\"antikt-antikt\", True, \"RNN anti-$k_t$ (gated)\"),\n",
    "        (\"antikt-random\", True, \"RNN random (gated)\"),\n",
    "        (\"antikt-seqpt\", True, \"RNN asc-$p_T$ (gated)\"),\n",
    "        (\"antikt-seqpt-reversed\", True, \"RNN desc-$p_T$ (gated)\"),\n",
    "        ## Towers\n",
    "        (\"antikt-kt-delphes\", True, \"RNN $k_t$ (gated)\"),\n",
    "        (\"antikt-cambridge-delphes\", True, \"RNN C/A (gated)\"),\n",
    "        (\"antikt-antikt-delphes\", True, \"RNN anti-$k_t$ (gated)\"),\n",
    "        (\"antikt-random-delphes\", True, \"RNN random (gated)\"),\n",
    "        (\"antikt-seqpt-delphes\", True, \"RNN asc-$p_T$ (gated)\"),\n",
    "        (\"antikt-seqpt-reversed-delphes\", True, \"RNN desc-$p_T$ (gated)\"),\n",
    "    \n",
    "        # Images\n",
    "        (\"antikt-kt-images\", False, \"RNN $k_t$\"),\n",
    "        (\"antikt-kt-images\", True, \"RNN $k_t$ (gated)\")\n",
    "    ]:\n",
    "    \n",
    "    fd = open(\"../models/jet-study-2/rocs/rocs-%s-%s.pickle\" % (\"s\" if not gated else \"g\", pattern), \"rb\")\n",
    "    r, f, t = pickle.load(fd)\n",
    "    fd.close()\n",
    "    \n",
    "    r, f, t = remove_outliers(r, f, t)\n",
    "    \n",
    "    report_score(r, f, t, label=label, \n",
    "                 latex=True, \n",
    "                 input=\"particles\" if \"delphes\" not in pattern and \"images\" not in pattern else \"towers\")"
   ]
  },
  {
   "cell_type": "code",
   "execution_count": null,
   "metadata": {
    "collapsed": true
   },
   "outputs": [],
   "source": [
    "for pattern, gated, label in [\n",
    "        # Simple\n",
    "        ## Particles\n",
    "        (\"antikt-kt\", False, \"RNN $k_t$\"),\n",
    "        ## Towers\n",
    "        (\"antikt-kt-delphes\", False, \"RNN $k_t$\"),\n",
    "        ## Images\n",
    "        (\"antikt-kt-images\", False, \"RNN $k_t$\"),\n",
    "\n",
    "        # Gated\n",
    "        ## Particles\n",
    "        (\"antikt-kt\", True, \"RNN $k_t$ (gated)\"),\n",
    "        ## Towers\n",
    "        (\"antikt-kt-delphes\", True, \"RNN $k_t$ (gated)\"),\n",
    "        # Images\n",
    "        (\"antikt-kt-images\", True, \"RNN $k_t$ (gated)\")\n",
    "    ]:\n",
    "    \n",
    "    fd = open(\"../models/jet-study-2/rocs/rocs-%s-%s.pickle\" % (\"sd\" if not gated else \"gd\", pattern), \"rb\")\n",
    "    r, f, t = pickle.load(fd)\n",
    "    fd.close()\n",
    "    \n",
    "    r, f, t = remove_outliers(r, f, t)\n",
    "    \n",
    "    report_score(r, f, t, label=label, \n",
    "                 latex=True, \n",
    "                 input=\"particles\" if \"delphes\" not in pattern and \"images\" not in pattern else \"towers\")"
   ]
  },
  {
   "cell_type": "markdown",
   "metadata": {},
   "source": [
    "# Plots"
   ]
  },
  {
   "cell_type": "code",
   "execution_count": 32,
   "metadata": {},
   "outputs": [
    {
     "ename": "IndexError",
     "evalue": "too many indices for array",
     "output_type": "error",
     "traceback": [
      "\u001b[0;31m---------------------------------------------------------------------------\u001b[0m",
      "\u001b[0;31mIndexError\u001b[0m                                Traceback (most recent call last)",
      "\u001b[0;32m<ipython-input-32-ad6060199b71>\u001b[0m in \u001b[0;36m<module>\u001b[0;34m()\u001b[0m\n\u001b[1;32m      9\u001b[0m     \u001b[0mfd\u001b[0m\u001b[0;34m.\u001b[0m\u001b[0mclose\u001b[0m\u001b[0;34m(\u001b[0m\u001b[0;34m)\u001b[0m\u001b[0;34m\u001b[0m\u001b[0m\n\u001b[1;32m     10\u001b[0m \u001b[0;34m\u001b[0m\u001b[0m\n\u001b[0;32m---> 11\u001b[0;31m     \u001b[0mr\u001b[0m\u001b[0;34m,\u001b[0m \u001b[0mf\u001b[0m\u001b[0;34m,\u001b[0m \u001b[0mt\u001b[0m \u001b[0;34m=\u001b[0m \u001b[0mremove_outliers\u001b[0m\u001b[0;34m(\u001b[0m\u001b[0mr\u001b[0m\u001b[0;34m,\u001b[0m \u001b[0mf\u001b[0m\u001b[0;34m,\u001b[0m \u001b[0mt\u001b[0m\u001b[0;34m)\u001b[0m\u001b[0;34m\u001b[0m\u001b[0m\n\u001b[0m\u001b[1;32m     12\u001b[0m \u001b[0;34m\u001b[0m\u001b[0m\n\u001b[1;32m     13\u001b[0m     \u001b[0mplot_rocs\u001b[0m\u001b[0;34m(\u001b[0m\u001b[0mr\u001b[0m\u001b[0;34m,\u001b[0m \u001b[0mf\u001b[0m\u001b[0;34m,\u001b[0m \u001b[0mt\u001b[0m\u001b[0;34m,\u001b[0m \u001b[0mlabel\u001b[0m\u001b[0;34m=\u001b[0m\u001b[0mlabel\u001b[0m\u001b[0;34m,\u001b[0m \u001b[0mcolor\u001b[0m\u001b[0;34m=\u001b[0m\u001b[0mcolor\u001b[0m\u001b[0;34m)\u001b[0m\u001b[0;34m\u001b[0m\u001b[0m\n",
      "\u001b[0;32m<ipython-input-20-6a617329a357>\u001b[0m in \u001b[0;36mremove_outliers\u001b[0;34m(rocs, fprs, tprs)\u001b[0m\n\u001b[1;32m      8\u001b[0m \u001b[0;34m\u001b[0m\u001b[0m\n\u001b[1;32m      9\u001b[0m     \u001b[0minv_fprs\u001b[0m \u001b[0;34m=\u001b[0m \u001b[0mnp\u001b[0m\u001b[0;34m.\u001b[0m\u001b[0marray\u001b[0m\u001b[0;34m(\u001b[0m\u001b[0minv_fprs\u001b[0m\u001b[0;34m)\u001b[0m\u001b[0;34m\u001b[0m\u001b[0m\n\u001b[0;32m---> 10\u001b[0;31m     \u001b[0mscores\u001b[0m \u001b[0;34m=\u001b[0m \u001b[0minv_fprs\u001b[0m\u001b[0;34m[\u001b[0m\u001b[0;34m:\u001b[0m\u001b[0;34m,\u001b[0m \u001b[0;36m225\u001b[0m\u001b[0;34m]\u001b[0m\u001b[0;34m\u001b[0m\u001b[0m\n\u001b[0m\u001b[1;32m     11\u001b[0m \u001b[0;34m\u001b[0m\u001b[0m\n\u001b[1;32m     12\u001b[0m     \u001b[0mp25\u001b[0m \u001b[0;34m=\u001b[0m \u001b[0mnp\u001b[0m\u001b[0;34m.\u001b[0m\u001b[0mpercentile\u001b[0m\u001b[0;34m(\u001b[0m\u001b[0mscores\u001b[0m\u001b[0;34m,\u001b[0m \u001b[0;36m1\u001b[0m \u001b[0;34m/\u001b[0m \u001b[0;36m6.\u001b[0m \u001b[0;34m*\u001b[0m \u001b[0;36m100.\u001b[0m\u001b[0;34m)\u001b[0m\u001b[0;34m\u001b[0m\u001b[0m\n",
      "\u001b[0;31mIndexError\u001b[0m: too many indices for array"
     ]
    }
   ],
   "source": [
    "# Simple vs gated\n",
    "for pattern, gated, label, color in [\n",
    "        #(\"antikt-kt\", False, \"RNN $k_t$ (simple)\", \"r\"),\n",
    "        (\"antikt-kt\", True, \"RNN $k_t$ (gated)\", \"b\")\n",
    "    ]:\n",
    "    \n",
    "    fd = open(\"../model.pickle\", \"rb\")\n",
    "    r, f, t = pickle.load(fd)\n",
    "    fd.close()\n",
    "    \n",
    "    r, f, t = remove_outliers(r, f, t)\n",
    "    \n",
    "    plot_rocs(r, f, t, label=label, color=color)\n",
    "    report_score(r, f, t, label=label)\n",
    "    \n",
    "plot_show()"
   ]
  },
  {
   "cell_type": "code",
   "execution_count": null,
   "metadata": {
    "collapsed": true
   },
   "outputs": [],
   "source": [
    "# Topologies (particles, simple)\n",
    "for pattern, gated, label, color in [\n",
    "        (\"antikt-kt\", False, \"$k_t$\", \"r\"), \n",
    "        (\"antikt-cambridge\", False, \"C/A\", \"g\"),\n",
    "        (\"antikt-antikt\", False, \"anti-$k_t$\", \"b\"), \n",
    "        (\"antikt-seqpt\", False, \"asc-$p_T$\", \"c\"),\n",
    "        (\"antikt-seqpt-reversed\", False, \"desc-$p_T$\", \"m\"),\n",
    "        (\"antikt-random\", False, \"random\", \"orange\")\n",
    "    ]:\n",
    "    \n",
    "    fd = open(\"../models/jet-study-2/rocs/rocs-%s-%s.pickle\" % (\"s\" if not gated else \"g\", pattern), \"rb\")\n",
    "    r, f, t = pickle.load(fd)\n",
    "    fd.close()\n",
    "    \n",
    "    r, f, t = remove_outliers(r, f, t)\n",
    "    \n",
    "    plot_rocs(r, f, t, label=label, color=color)\n",
    "    report_score(r, f, t, label=label)\n",
    "    \n",
    "plot_show()"
   ]
  },
  {
   "cell_type": "code",
   "execution_count": null,
   "metadata": {
    "collapsed": true
   },
   "outputs": [],
   "source": [
    "# Topologies (towers, simple)\n",
    "for pattern, gated, label, color in [\n",
    "        (\"antikt-kt-delphes\", False, \"RNN $k_t$\", \"r\"), \n",
    "        (\"antikt-cambridge-delphes\", False, \"RNN C/A\", \"g\"),\n",
    "        (\"antikt-antikt-delphes\", False, \"RNN anti-$k_t$\", \"b\"), \n",
    "        (\"antikt-seqpt-delphes\", False, \"RNN asc-$p_T$\", \"c\"),\n",
    "        (\"antikt-seqpt-reversed-delphes\", False, \"RNN desc-$p_T$\", \"m\"),\n",
    "        (\"antikt-random-delphes\", False, \"RNN random\", \"orange\")\n",
    "    ]:\n",
    "    \n",
    "    fd = open(\"../models/jet-study-2/rocs/rocs-%s-%s.pickle\" % (\"s\" if not gated else \"g\", pattern), \"rb\")\n",
    "    r, f, t = pickle.load(fd)\n",
    "    fd.close()\n",
    "    \n",
    "    r, f, t = remove_outliers(r, f, t)\n",
    "    \n",
    "    plot_rocs(r, f, t, label=label, color=color)\n",
    "    report_score(r, f, t, label=label)\n",
    "    \n",
    "plot_show()"
   ]
  },
  {
   "cell_type": "code",
   "execution_count": null,
   "metadata": {
    "collapsed": true
   },
   "outputs": [],
   "source": [
    "# Topologies (particles, gated)\n",
    "for pattern, gated, label, color in [\n",
    "        (\"antikt-kt\", True, \"RNN $k_t$\", \"r\"), \n",
    "        (\"antikt-antikt\", True, \"RNN anti-$k_t$\", \"b\"), \n",
    "        (\"antikt-seqpt\", True, \"RNN asc-$p_T$\", \"c\"),\n",
    "        (\"antikt-seqpt-reversed\", True, \"RNN desc-$p_T$\", \"m\"),\n",
    "    ]:\n",
    "    \n",
    "    fd = open(\"../models/jet-study-2/rocs/rocs-%s-%s.pickle\" % (\"s\" if not gated else \"g\", pattern), \"rb\")\n",
    "    r, f, t = pickle.load(fd)\n",
    "    fd.close()\n",
    "    \n",
    "    r, f, t = remove_outliers(r, f, t)\n",
    "    \n",
    "    plot_rocs(r, f, t, label=label, color=color)\n",
    "    report_score(r, f, t, label=label)\n",
    "    \n",
    "plot_show()"
   ]
  },
  {
   "cell_type": "code",
   "execution_count": null,
   "metadata": {
    "collapsed": true
   },
   "outputs": [],
   "source": [
    "# Topologies (towers, gated)\n",
    "for pattern, gated, label, color in [\n",
    "        (\"antikt-kt-delphes\", True, \"RNN $k_t$\", \"r\"), \n",
    "        (\"antikt-antikt-delphes\", True, \"RNN anti-$k_t$\", \"b\"), \n",
    "        (\"antikt-seqpt-delphes\", True, \"RNN asc-$p_T$\", \"c\"),\n",
    "        (\"antikt-seqpt-reversed-delphes\", True, \"RNN desc-$p_T$\", \"m\"),\n",
    "    ]:\n",
    "    \n",
    "    fd = open(\"../models/jet-study-2/rocs/rocs-%s-%s.pickle\" % (\"s\" if not gated else \"g\", pattern), \"rb\")\n",
    "    r, f, t = pickle.load(fd)\n",
    "    fd.close()\n",
    "    \n",
    "    r, f, t = remove_outliers(r, f, t)\n",
    "    \n",
    "    plot_rocs(r, f, t, label=label, color=color)\n",
    "    report_score(r, f, t, label=label)\n",
    "    \n",
    "plot_show()"
   ]
  },
  {
   "cell_type": "code",
   "execution_count": null,
   "metadata": {
    "collapsed": true
   },
   "outputs": [],
   "source": [
    "# Particles vs towers vs images (simple)\n",
    "for pattern, gated, label, color in [\n",
    "        (\"antikt-kt\", False, \"particles\", \"r\"), \n",
    "        (\"antikt-kt-delphes\", False, \"towers\", \"g\"),\n",
    "        (\"antikt-kt-images\", False, \"images\", \"b\"), \n",
    "    ]:\n",
    "    \n",
    "    fd = open(\"../models/jet-study-2/rocs/rocs-%s-%s.pickle\" % (\"s\" if not gated else \"g\", pattern), \"rb\")\n",
    "    r, f, t = pickle.load(fd)\n",
    "    fd.close()\n",
    "    \n",
    "    r, f, t = remove_outliers(r, f, t)\n",
    "    \n",
    "    plot_rocs(r, f, t, label=label, color=color)\n",
    "    report_score(r, f, t, label=label)\n",
    "    \n",
    "plot_show(filename=\"particles-towers-images.pdf\")"
   ]
  },
  {
   "cell_type": "code",
   "execution_count": null,
   "metadata": {
    "collapsed": true
   },
   "outputs": [],
   "source": [
    "# Particles vs towers vs images (gated)\n",
    "for pattern, gated, label, color in [\n",
    "        (\"antikt-kt\", True, \"particles\", \"r\"), \n",
    "        (\"antikt-kt-delphes\", True, \"towers\", \"g\"),\n",
    "        (\"antikt-kt-images\", True, \"images\", \"b\"), \n",
    "    ]:\n",
    "    \n",
    "    fd = open(\"../models/jet-study-2/rocs/rocs-%s-%s.pickle\" % (\"s\" if not gated else \"g\", pattern), \"rb\")\n",
    "    r, f, t = pickle.load(fd)\n",
    "    fd.close()\n",
    "    \n",
    "    r, f, t = remove_outliers(r, f, t)\n",
    "    \n",
    "    plot_rocs(r, f, t, label=label, color=color)\n",
    "    report_score(r, f, t, label=label)\n",
    "    \n",
    "plot_show()"
   ]
  },
  {
   "cell_type": "markdown",
   "metadata": {},
   "source": [
    "# Trimming"
   ]
  },
  {
   "cell_type": "code",
   "execution_count": null,
   "metadata": {
    "collapsed": true,
    "scrolled": false
   },
   "outputs": [],
   "source": [
    "for pattern_train, pattern_test, gated in [\n",
    "        (\"antikt-kt\", \"antikt-kt\", False),\n",
    "        (\"antikt-kt\", \"antikt-kt-trimmed\", False),\n",
    "        (\"antikt-kt-trimmed\", \"antikt-kt-trimmed\", False),\n",
    "        (\"antikt-kt-trimmed\", \"antikt-kt\", False),\n",
    "    ]:\n",
    "    r, f, t = build_rocs(pattern_train, pattern_test, pattern_train, gated=gated)\n",
    "    \n",
    "    # Save\n",
    "    fd = open(\"../models/jet-study-2/rocs/rocs-%s-%s-%s.pickle\" % \n",
    "              (\"s\" if not gated else \"g\", pattern_train, pattern_test), \"wb\")\n",
    "    pickle.dump((r, f, t), fd)\n",
    "    fd.close()"
   ]
  },
  {
   "cell_type": "code",
   "execution_count": null,
   "metadata": {
    "collapsed": true
   },
   "outputs": [],
   "source": [
    "for pattern_train, pattern_test, gated, label, color in [\n",
    "        (\"antikt-kt\", \"antikt-kt\", False, \"$k_t$ on $k_t$\", \"b\"),\n",
    "        (\"antikt-kt\", \"antikt-kt-trimmed\", False, \"$k_t$ on $k_t$-trimmed\", \"c\"),\n",
    "        (\"antikt-kt-trimmed\", \"antikt-kt-trimmed\", False, \"$k_t$-trimmed on $k_t$-trimmed\", \"r\"),\n",
    "        (\"antikt-kt-trimmed\", \"antikt-kt\", False, \"$k_t$-trimmed on $k_t$\", \"orange\"),\n",
    "    ]:\n",
    "    \n",
    "    fd = open(\"../models/jet-study-2/rocs/rocs-%s-%s-%s.pickle\" % \n",
    "              (\"s\" if not gated else \"g\", pattern_train, pattern_test), \"rb\")\n",
    "    r, f, t = pickle.load(fd)\n",
    "    fd.close()\n",
    "    \n",
    "    r, f, t = remove_outliers(r, f, t)\n",
    "    \n",
    "    plot_rocs(r, f, t, label=label, color=color)\n",
    "    report_score(r, f, t, label=label)\n",
    "    \n",
    "plot_show()"
   ]
  },
  {
   "cell_type": "markdown",
   "metadata": {},
   "source": [
    "# Colinear splits"
   ]
  },
  {
   "cell_type": "code",
   "execution_count": null,
   "metadata": {
    "collapsed": true,
    "scrolled": true
   },
   "outputs": [],
   "source": [
    "from functools import partial\n",
    "from recnn.preprocessing import sequentialize_by_pt\n",
    "\n",
    "preprocess_seqpt = partial(sequentialize_by_pt, reverse=False)\n",
    "preprocess_seqpt_rev = partial(sequentialize_by_pt, reverse=True)\n",
    "\n",
    "for pattern_train, pattern_test, gated, preprocess in [\n",
    "        # kt\n",
    "        (\"antikt-kt\", \"antikt-kt-colinear1\", False, None),\n",
    "        (\"antikt-kt\", \"antikt-kt-colinear10\", False, None),\n",
    "        (\"antikt-kt\", \"antikt-kt-colinear1-max\", False, None),\n",
    "        (\"antikt-kt\", \"antikt-kt-colinear10-max\", False, None),\n",
    "    \n",
    "        # asc-pt\n",
    "        (\"antikt-seqpt\", \"antikt-kt-colinear1\", False, preprocess_seqpt),\n",
    "        (\"antikt-seqpt\", \"antikt-kt-colinear10\", False, preprocess_seqpt),\n",
    "        (\"antikt-seqpt\", \"antikt-kt-colinear1-max\", False, preprocess_seqpt),\n",
    "        (\"antikt-seqpt\", \"antikt-kt-colinear10-max\", False, preprocess_seqpt),\n",
    "    \n",
    "        # desc-pt\n",
    "        (\"antikt-seqpt-reversed\", \"antikt-kt-colinear1\", False, preprocess_seqpt_rev),\n",
    "        (\"antikt-seqpt-reversed\", \"antikt-kt-colinear10\", False, preprocess_seqpt_rev),\n",
    "        (\"antikt-seqpt-reversed\", \"antikt-kt-colinear1-max\", False, preprocess_seqpt_rev),\n",
    "        (\"antikt-seqpt-reversed\", \"antikt-kt-colinear10-max\", False, preprocess_seqpt_rev),\n",
    "    ]:\n",
    "    \n",
    "    r, f, t = build_rocs(pattern_train, pattern_test, pattern_train, gated=gated, preprocess=preprocess)\n",
    "    \n",
    "    # Save\n",
    "    fd = open(\"../models/jet-study-2/rocs/rocs-%s-%s-%s.pickle\" % \n",
    "              (\"s\" if not gated else \"g\", pattern_train, pattern_test), \"wb\")\n",
    "    pickle.dump((r, f, t), fd)\n",
    "    fd.close()"
   ]
  },
  {
   "cell_type": "code",
   "execution_count": null,
   "metadata": {
    "collapsed": true
   },
   "outputs": [],
   "source": [
    "for pattern_train, pattern_test, gated, label in [\n",
    "        # kt\n",
    "        (\"antikt-kt\", \"antikt-kt-colinear1\", False, \"$k_t$ colinear1\"),\n",
    "        (\"antikt-kt\", \"antikt-kt-colinear10\", False, \"$k_t$ colinear10\"),\n",
    "        (\"antikt-kt\", \"antikt-kt-colinear1-max\", False, \"$k_t$ colinear1-max\"),\n",
    "        (\"antikt-kt\", \"antikt-kt-colinear10-max\", False, \"$k_t$ colinear10-max\"),\n",
    "    \n",
    "        # asc-pt\n",
    "        (\"antikt-seqpt\", \"antikt-kt-colinear1\", False, \"asc-$p_T$ colinear1\"),\n",
    "        (\"antikt-seqpt\", \"antikt-kt-colinear10\", False, \"asc-$p_T$ colinear10\"),\n",
    "        (\"antikt-seqpt\", \"antikt-kt-colinear1-max\", False, \"asc-$p_T$ colinear1-max\"),\n",
    "        (\"antikt-seqpt\", \"antikt-kt-colinear10-max\", False, \"asc-$p_T$ colinear10-max\"),\n",
    "    \n",
    "        # desc-pt\n",
    "        (\"antikt-seqpt-reversed\", \"antikt-kt-colinear1\", False, \"desc-$p_T$ colinear1\"),\n",
    "        (\"antikt-seqpt-reversed\", \"antikt-kt-colinear10\", False, \"desc-$p_T$ colinear10\"),\n",
    "        (\"antikt-seqpt-reversed\", \"antikt-kt-colinear1-max\", False, \"desc-$p_T$ colinear1-max\"),\n",
    "        (\"antikt-seqpt-reversed\", \"antikt-kt-colinear10-max\", False, \"desc-$p_T$ colinear10-max\"),\n",
    "    ]:\n",
    "    \n",
    "    fd = open(\"../models/jet-study-2/rocs/rocs-%s-%s-%s.pickle\" % \n",
    "              (\"s\" if not gated else \"g\", pattern_train, pattern_test), \"rb\")\n",
    "    r, f, t = pickle.load(fd)\n",
    "    fd.close()\n",
    "    \n",
    "    r, f, t = remove_outliers(r, f, t)\n",
    "    \n",
    "    report_score(r, f, t, label=label,\n",
    "                 latex=True, short=True)"
   ]
  },
  {
   "cell_type": "markdown",
   "metadata": {},
   "source": [
    "# Soft particles"
   ]
  },
  {
   "cell_type": "code",
   "execution_count": null,
   "metadata": {
    "collapsed": true
   },
   "outputs": [],
   "source": [
    "from functools import partial\n",
    "from recnn.preprocessing import sequentialize_by_pt\n",
    "\n",
    "preprocess_seqpt = partial(sequentialize_by_pt, reverse=False)\n",
    "preprocess_seqpt_rev = partial(sequentialize_by_pt, reverse=True)\n",
    "\n",
    "for pattern_train, pattern_test, gated, preprocess in [\n",
    "        (\"antikt-kt\", \"antikt-kt-soft\", False, None),\n",
    "        (\"antikt-seqpt\", \"antikt-kt-soft\", False, preprocess_seqpt),\n",
    "        (\"antikt-seqpt-reversed\", \"antikt-kt-soft\", False, preprocess_seqpt_rev),\n",
    "    ]:\n",
    "    \n",
    "    r, f, t = build_rocs(pattern_train, pattern_test, pattern_train, gated=gated, preprocess=preprocess)\n",
    "    \n",
    "    # Save\n",
    "    fd = open(\"../models/jet-study-2/rocs/rocs-%s-%s-%s.pickle\" % \n",
    "              (\"s\" if not gated else \"g\", pattern_train, pattern_test), \"wb\")\n",
    "    pickle.dump((r, f, t), fd)\n",
    "    fd.close()"
   ]
  },
  {
   "cell_type": "code",
   "execution_count": null,
   "metadata": {
    "collapsed": true
   },
   "outputs": [],
   "source": [
    "for pattern_train, pattern_test, gated, label in [\n",
    "        (\"antikt-kt\", \"antikt-kt-soft\", False, \"$k_t$ soft\"),\n",
    "        (\"antikt-seqpt\", \"antikt-kt-soft\", False, \"asc-$p_T$ soft\"),\n",
    "        (\"antikt-seqpt-reversed\", \"antikt-kt-soft\", False, \"desc-$p_T$ soft\"),\n",
    "    ]:\n",
    "    \n",
    "    fd = open(\"../models/jet-study-2/rocs/rocs-%s-%s-%s.pickle\" % \n",
    "              (\"s\" if not gated else \"g\", pattern_train, pattern_test), \"rb\")\n",
    "    r, f, t = pickle.load(fd)\n",
    "    fd.close()\n",
    "    \n",
    "    r, f, t = remove_outliers(r, f, t)\n",
    "    \n",
    "    report_score(r, f, t, label=label, latex=True, short=True)"
   ]
  },
  {
   "cell_type": "markdown",
   "metadata": {},
   "source": [
    "# Learning curve"
   ]
  },
  {
   "cell_type": "code",
   "execution_count": null,
   "metadata": {
    "collapsed": true,
    "scrolled": false
   },
   "outputs": [],
   "source": [
    "for pattern, gated, n_events in [\n",
    "#         (\"antikt-kt\", False, 6000),\n",
    "#         (\"antikt-seqpt-reversed\", False, 6000),\n",
    "        (\"antikt-kt\", True, 6000),\n",
    "        (\"antikt-seqpt-reversed\", True, 6000),\n",
    "#         (\"antikt-kt\", False, 15000),\n",
    "#         (\"antikt-seqpt-reversed\", False, 15000),\n",
    "        (\"antikt-kt\", True, 15000),\n",
    "        (\"antikt-seqpt-reversed\", True, 15000),\n",
    "    ]:\n",
    "    \n",
    "    tf = load_tf(\"../data/w-vs-qcd/final/%s-train.pickle\" % pattern, n_events_train=n_events)\n",
    "    X, y, w = load_test(tf, \"../data/w-vs-qcd/final/%s-test.pickle\" % pattern) \n",
    "    \n",
    "    if not gated:\n",
    "        rocs, fprs, tprs = evaluate_models(X, y, w, \n",
    "                                           \"../models/jet-study-2/model-w-s-%s-%d-[0-9]*.pickle\" % (pattern, n_events))\n",
    "    else:\n",
    "        rocs, fprs, tprs = evaluate_models(X, y, w, \n",
    "                                           \"../models/jet-study-2/model-w-g-%s-%d-[0-9]*.pickle\" % (pattern, n_events), func=grnn_predict_gated)\n",
    "        \n",
    "    # Save\n",
    "    fd = open(\"../models/jet-study-2/rocs/rocs-%s-%s-%d.pickle\" % (\"s\" if not gated else \"g\", pattern, n_events), \"wb\")\n",
    "    pickle.dump((rocs, fprs, tprs), fd)\n",
    "    fd.close()"
   ]
  },
  {
   "cell_type": "code",
   "execution_count": null,
   "metadata": {
    "collapsed": true
   },
   "outputs": [],
   "source": [
    "for pattern, label, color in [\n",
    "        (\"s-antikt-kt\", \"$k_t$ 100k\", \"r\"),\n",
    "        (\"s-antikt-kt-15000\", \"$k_t$ 10k\", \"g\"),\n",
    "        (\"s-antikt-kt-6000\", \"$k_t$ 1k\", \"b\"),\n",
    "        (\"s-antikt-seqpt-reversed\", \"desc-$p_T$ 100k\", \"r--\"),\n",
    "        (\"s-antikt-seqpt-reversed-15000\", \"desc-$p_T$ 10k\", \"g--\"),\n",
    "        (\"s-antikt-seqpt-reversed-6000\", \"desc-$p_T$ 1k\", \"b--\"),\n",
    "    ]:\n",
    "    \n",
    "    fd = open(\"../models/jet-study-2/rocs/rocs-%s.pickle\" % pattern, \"rb\")\n",
    "    r, f, t = pickle.load(fd)\n",
    "    fd.close()\n",
    "    \n",
    "    r, f, t = remove_outliers(r, f, t)\n",
    "    plot_rocs(r, f, t, label=label, color=color)\n",
    "    report_score(r, f, t, label=label)\n",
    "    \n",
    "plot_show()"
   ]
  },
  {
   "cell_type": "code",
   "execution_count": null,
   "metadata": {
    "collapsed": true
   },
   "outputs": [],
   "source": [
    "for pattern, label, color in [\n",
    "        (\"g-antikt-kt\", \"$k_t$ 100k\", \"r\"),\n",
    "        (\"g-antikt-kt-15000\", \"$k_t$ 10k\", \"g\"),\n",
    "        (\"g-antikt-kt-6000\", \"$k_t$ 1k\", \"b\"),\n",
    "        (\"g-antikt-seqpt-reversed\", \"desc-$p_T$ 100k\", \"r--\"),\n",
    "        (\"g-antikt-seqpt-reversed-15000\", \"desc-$p_T$ 10k\", \"g--\"),\n",
    "        (\"g-antikt-seqpt-reversed-6000\", \"desc-$p_T$ 1k\", \"b--\"),\n",
    "    ]:\n",
    "    \n",
    "    fd = open(\"../models/jet-study-2/rocs/rocs-%s.pickle\" % pattern, \"rb\")\n",
    "    r, f, t = pickle.load(fd)\n",
    "    fd.close()\n",
    "    \n",
    "    r, f, t = remove_outliers(r, f, t)\n",
    "    plot_rocs(r, f, t, label=label, color=color)\n",
    "    report_score(r, f, t, label=label)\n",
    "    \n",
    "plot_show()"
   ]
  },
  {
   "cell_type": "markdown",
   "metadata": {},
   "source": [
    "# Tau21"
   ]
  },
  {
   "cell_type": "code",
   "execution_count": null,
   "metadata": {
    "collapsed": true
   },
   "outputs": [],
   "source": [
    "import h5py"
   ]
  },
  {
   "cell_type": "code",
   "execution_count": null,
   "metadata": {
    "collapsed": true
   },
   "outputs": [],
   "source": [
    "f = h5py.File(\"../data/w-vs-qcd/h5/w_100000_j1p0_sj0p30_delphes_jets_images.h5\", \"r\")[\"auxvars\"]\n",
    "tau1 = f[\"tau_1\"]\n",
    "tau2 = f[\"tau_2\"]\n",
    "tau21 = np.true_divide(tau2, tau1)\n",
    "pt = f[\"pt_trimmed\"]\n",
    "mass = f[\"mass_trimmed\"]\n",
    "mask = (f[\"mass_trimmed\"] < 110) & (f[\"mass_trimmed\"] > 50) & (f[\"pt_trimmed\"] < 300) & (f[\"pt_trimmed\"] > 250)\n",
    "#mask = mask & np.isfinite(tau21) & (tau21 != 0.)\n",
    "signal_tau21 = tau21[mask]\n",
    "signal_pt = pt[mask]\n",
    "signal_mass = mass[mask]\n",
    "\n",
    "f = h5py.File(\"../data/w-vs-qcd/h5/qcd_100000_j1p0_sj0p30_delphes_jets_images.h5\", \"r\")[\"auxvars\"]\n",
    "tau1 = f[\"tau_1\"]\n",
    "tau2 = f[\"tau_2\"]\n",
    "tau21 = np.true_divide(tau2, tau1)\n",
    "pt = f[\"pt_trimmed\"]\n",
    "mass = f[\"mass_trimmed\"]\n",
    "mask = (f[\"mass_trimmed\"] < 110) & (f[\"mass_trimmed\"] > 50) & (f[\"pt_trimmed\"] < 300) & (f[\"pt_trimmed\"] > 250)\n",
    "#mask = mask & np.isfinite(tau21) & (tau21 != 0.)\n",
    "bkg_tau21 = tau21[mask]\n",
    "bkg_pt = pt[mask]\n",
    "bkg_mass = mass[mask]"
   ]
  },
  {
   "cell_type": "code",
   "execution_count": null,
   "metadata": {
    "collapsed": true
   },
   "outputs": [],
   "source": [
    "plt.hist(bkg_mass, histtype=\"step\", bins=40, normed=1)\n",
    "plt.hist(signal_mass, histtype=\"step\", bins=40, normed=1)"
   ]
  },
  {
   "cell_type": "code",
   "execution_count": null,
   "metadata": {
    "collapsed": true
   },
   "outputs": [],
   "source": [
    "tau21 = np.concatenate((signal_tau21, bkg_tau21))\n",
    "pts = np.concatenate((signal_pt, bkg_pt))\n",
    "masss = np.concatenate((signal_mass, bkg_mass))\n",
    "\n",
    "X = np.hstack([tau21.reshape(-1,1), masss.reshape(-1,1)])\n",
    "y = np.concatenate((np.ones(len(signal_tau21)), np.zeros(len(bkg_tau21))))\n",
    "\n",
    "w = np.zeros(len(y)) \n",
    "\n",
    "pdf, edges = np.histogram(pts[y == 0], density=True, range=[250, 300], bins=50)\n",
    "indices = np.searchsorted(edges, pts[y == 0]) - 1\n",
    "inv_w = 1. / pdf[indices]\n",
    "inv_w /= inv_w.sum()\n",
    "w[y==0] = inv_w\n",
    "\n",
    "pdf, edges = np.histogram(pts[y == 1], density=True, range=[250, 300], bins=50)\n",
    "indices = np.searchsorted(edges, pts[y == 1]) - 1\n",
    "inv_w = 1. / pdf[indices]\n",
    "inv_w /= inv_w.sum()\n",
    "w[y==1] = inv_w"
   ]
  },
  {
   "cell_type": "code",
   "execution_count": null,
   "metadata": {
    "collapsed": true
   },
   "outputs": [],
   "source": [
    "X_train, X_test, y_train, y_test, w_train, w_test = train_test_split(X, y, w, train_size=0.5)"
   ]
  },
  {
   "cell_type": "code",
   "execution_count": null,
   "metadata": {
    "collapsed": true
   },
   "outputs": [],
   "source": [
    "def evaluate_models(X, y, w):\n",
    "    rocs = []\n",
    "    fprs = []\n",
    "    tprs = []\n",
    "     \n",
    "    y_pred = X\n",
    "\n",
    "    # Roc\n",
    "    rocs.append(roc_auc_score(y, y_pred, sample_weight=w))\n",
    "    fpr, tpr, _ = roc_curve(y, y_pred, sample_weight=w)\n",
    "\n",
    "    fprs.append(fpr)\n",
    "    tprs.append(tpr)\n",
    "        \n",
    "    return rocs, fprs, tprs\n",
    "\n",
    "r, f, t = evaluate_models(-tau21, y, w)\n",
    "plot_rocs(r, f, t, label=\"tau21\")\n",
    "report_score(r, f, t, label=\"tau21\")\n",
    "\n",
    "r, f, t = evaluate_models(masss, y, w)\n",
    "plot_rocs(r, f, t, label=\"mass\")\n",
    "report_score(r, f, t, label=\"mass\")\n",
    "\n",
    "plot_show()"
   ]
  },
  {
   "cell_type": "code",
   "execution_count": null,
   "metadata": {
    "collapsed": true
   },
   "outputs": [],
   "source": [
    "clf = ExtraTreesClassifier(n_estimators=1000, min_samples_leaf=100, max_features=1)\n",
    "clf.fit(X_train, y_train)"
   ]
  },
  {
   "cell_type": "code",
   "execution_count": null,
   "metadata": {
    "collapsed": true
   },
   "outputs": [],
   "source": [
    "r, f, t = evaluate_models(-clf.predict_proba(X_test)[:, 0], y_test, w_test)\n",
    "plot_rocs(r, f, t, label=\"tau21+mass\")\n",
    "report_score(r, f, t, label=\"tau21+mass\")\n",
    "\n",
    "plot_show()"
   ]
  }
 ],
 "metadata": {
  "kernelspec": {
   "display_name": "Python 2",
   "language": "python",
   "name": "python2"
  },
  "language_info": {
   "codemirror_mode": {
    "name": "ipython",
    "version": 2
   },
   "file_extension": ".py",
   "mimetype": "text/x-python",
   "name": "python",
   "nbconvert_exporter": "python",
   "pygments_lexer": "ipython2",
   "version": "2.7.14"
  }
 },
 "nbformat": 4,
 "nbformat_minor": 1
}
