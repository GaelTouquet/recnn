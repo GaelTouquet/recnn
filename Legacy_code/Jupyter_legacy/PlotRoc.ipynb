{
 "cells": [
  {
   "cell_type": "code",
   "execution_count": 1,
   "metadata": {
    "collapsed": true
   },
   "outputs": [],
   "source": [
    "from sklearn.preprocessing import RobustScaler\n",
    "from sklearn.metrics import roc_auc_score\n",
    "from sklearn.metrics import roc_curve\n",
    "import matplotlib.pyplot as plt\n",
    "import numpy as np\n",
    "import pickle\n",
    "import sys\n",
    "np.seterr(divide=\"ignore\")\n",
    "sys.path.append(\"..\")\n",
    "from recnn.recnn import grnn_predict_simple\n",
    "from recnn.recnn import grnn_predict_gated\n",
    "from recnn.preprocessing import rewrite_content\n",
    "from recnn.preprocessing import multithreadmap\n",
    "from recnn.preprocessing import permute_by_pt\n",
    "from recnn.preprocessing import extract"
   ]
  },
  {
   "cell_type": "code",
   "execution_count": 2,
   "metadata": {
    "collapsed": true
   },
   "outputs": [],
   "source": [
    "def extractcontent(jet):\n",
    "    return(jet[\"content\"])\n",
    "\n",
    "def tftransform(jet,tf):\n",
    "    \"\"\"applies a robustscaler transform\"\"\"\n",
    "    jet[\"content\"] = tf.transform(jet[\"content\"])\n",
    "    return(jet)\n",
    "\n",
    "def load_tf(X, y):\n",
    "    \"\"\"loads training data and make a robustscaler transform\"\"\"\n",
    "    # Make training data\n",
    "    X = multithreadmap(rewrite_content,X)\n",
    "    X = multithreadmap(extract,X)\n",
    "    Xcontent=multithreadmap(extractcontent,X)\n",
    "    tf = RobustScaler().fit(np.vstack(Xcontent))\n",
    "    return(tf)\n",
    "\n",
    "def load_test(tf, X, y):\n",
    "    \"\"\"loads testing data\"\"\"\n",
    "    # Make test data\n",
    "    shuf = np.random.permutation(len(X))\n",
    "    X=X[shuf]\n",
    "    y=y[shuf]\n",
    "    print(\"Preprocessing...\")\n",
    "    X = multithreadmap(rewrite_content,X)\n",
    "    X = multithreadmap(permute_by_pt,X)\n",
    "    X = multithreadmap(extract,X)\n",
    "    X=multithreadmap(tftransform,X,tf=tf)\n",
    "    return(X, y)\n",
    "\n",
    "def roc_curve_perso(y, y_pred,density=1000):\n",
    "    \"\"\"return the roc curve\"\"\"\n",
    "    back = np.argwhere(y==0)\n",
    "    back = back.reshape((len(back),))\n",
    "    sign = np.argwhere(y==1)\n",
    "    sign=sign.reshape((len(sign),))\n",
    "    #prediction\n",
    "    y_pred_sign=y_pred[sign]\n",
    "    y_pred_back=y_pred[back]\n",
    "    t=np.linspace(0.,1.,density)\n",
    "    tpr=np.zeros(density,dtype=float)\n",
    "    fpr=np.zeros(density,dtype=float)\n",
    "    for i in range(density):\n",
    "        tpr[i]=np.sum(y_pred_sign<=t[i])\n",
    "        fpr[i]=np.sum(y_pred_back<=t[i])\n",
    "    tpr=1-tpr/len(y_pred_sign)\n",
    "    fpr=1-fpr/len(y_pred_back)\n",
    "    return(fpr,tpr,t)"
   ]
  },
  {
   "cell_type": "code",
   "execution_count": 3,
   "metadata": {
    "collapsed": true
   },
   "outputs": [],
   "source": [
    "def predict(X, filename, func=grnn_predict_simple):\n",
    "    \"\"\"make prediction function\"\"\"\n",
    "    fd = open(filename, \"rb\")\n",
    "    params = pickle.load(fd)\n",
    "    fd.close()\n",
    "    y_pred = func(params, X)\n",
    "    return(y_pred)\n",
    "\n",
    "def evaluate_models(X, y, filename, func=grnn_predict_simple):\n",
    "    \"\"\"evaluates a model\"\"\"\n",
    "    print(\"Loading \" + filename),\n",
    "    y_pred = predict(X, filename, func=func)\n",
    "    fpr, tpr, _ = roc_curve_perso(y, y_pred,density=10000)\n",
    "    roc = np.trapz(-tpr,fpr)\n",
    "    print(\"ROC AUC = %.4f\" % roc)\n",
    "    return(roc, fpr, tpr)\n",
    "\n",
    "def build_rocs(tf, X1, y1, model):\n",
    "    X, y = load_test(tf, X1, y1) \n",
    "    roc, fpr, tpr = evaluate_models(X, y, model, func=grnn_predict_gated)\n",
    "    return(roc, fpr, tpr)"
   ]
  },
  {
   "cell_type": "code",
   "execution_count": 4,
   "metadata": {
    "collapsed": true
   },
   "outputs": [],
   "source": [
    "basepath = '/data/conda/recnn/data'\n",
    "name=\"anti-kt\"\n",
    "trainfile,testfile = basepath+\"/npyfiles/subjet_oriented_\"+name+\"_train.npy\",basepath+\"/npyfiles/subjet_oriented_\"+name+\"_test.npy\"\n",
    "modelpath = basepath+\"/models/subjet_oriented_\"+name+\"_model.pickle\""
   ]
  },
  {
   "cell_type": "code",
   "execution_count": 5,
   "metadata": {
    "collapsed": true
   },
   "outputs": [],
   "source": [
    "### Load training data ###\n",
    "X, y = np.load(trainfile)\n",
    "X=np.array(X).astype(dict)\n",
    "y = np.array(y).astype(int)\n",
    "\n",
    "### to rescale test data ###\n",
    "tf = load_tf(X,y)\n",
    "\n",
    "### Load test data ###\n",
    "X1, y1 = np.load(testfile)\n",
    "X1 = np.array(X1).astype(dict)\n",
    "y1 = np.array(y1).astype(int)"
   ]
  },
  {
   "cell_type": "code",
   "execution_count": 6,
   "metadata": {},
   "outputs": [
    {
     "name": "stdout",
     "output_type": "stream",
     "text": [
      "Preprocessing...\n",
      "Loading /data/conda/recnn/data/data/conda/recnn/data/models/subjet_oriented_anti-kt_model.pickle"
     ]
    },
    {
     "ename": "IOError",
     "evalue": "[Errno 2] No such file or directory: '/data/conda/recnn/data/data/conda/recnn/data/models/subjet_oriented_anti-kt_model.pickle'",
     "output_type": "error",
     "traceback": [
      "\u001b[0;31m---------------------------------------------------------------------------\u001b[0m",
      "\u001b[0;31mIOError\u001b[0m                                   Traceback (most recent call last)",
      "\u001b[0;32m<ipython-input-6-797fe2384b96>\u001b[0m in \u001b[0;36m<module>\u001b[0;34m()\u001b[0m\n\u001b[1;32m      1\u001b[0m \u001b[0;31m### Build the roc ###\u001b[0m\u001b[0;34m\u001b[0m\u001b[0;34m\u001b[0m\u001b[0m\n\u001b[0;32m----> 2\u001b[0;31m \u001b[0mr\u001b[0m\u001b[0;34m,\u001b[0m \u001b[0mf\u001b[0m\u001b[0;34m,\u001b[0m \u001b[0mt\u001b[0m \u001b[0;34m=\u001b[0m \u001b[0mbuild_rocs\u001b[0m\u001b[0;34m(\u001b[0m\u001b[0mtf\u001b[0m\u001b[0;34m,\u001b[0m \u001b[0mX1\u001b[0m\u001b[0;34m,\u001b[0m \u001b[0my1\u001b[0m\u001b[0;34m,\u001b[0m \u001b[0mbasepath\u001b[0m\u001b[0;34m+\u001b[0m\u001b[0mmodelpath\u001b[0m\u001b[0;34m)\u001b[0m\u001b[0;34m\u001b[0m\u001b[0m\n\u001b[0m\u001b[1;32m      3\u001b[0m \u001b[0;32mprint\u001b[0m\u001b[0;34m(\u001b[0m\u001b[0mr\u001b[0m\u001b[0;34m)\u001b[0m\u001b[0;34m\u001b[0m\u001b[0m\n",
      "\u001b[0;32m<ipython-input-3-f1e83a477be3>\u001b[0m in \u001b[0;36mbuild_rocs\u001b[0;34m(tf, X1, y1, model)\u001b[0m\n\u001b[1;32m     18\u001b[0m \u001b[0;32mdef\u001b[0m \u001b[0mbuild_rocs\u001b[0m\u001b[0;34m(\u001b[0m\u001b[0mtf\u001b[0m\u001b[0;34m,\u001b[0m \u001b[0mX1\u001b[0m\u001b[0;34m,\u001b[0m \u001b[0my1\u001b[0m\u001b[0;34m,\u001b[0m \u001b[0mmodel\u001b[0m\u001b[0;34m)\u001b[0m\u001b[0;34m:\u001b[0m\u001b[0;34m\u001b[0m\u001b[0m\n\u001b[1;32m     19\u001b[0m     \u001b[0mX\u001b[0m\u001b[0;34m,\u001b[0m \u001b[0my\u001b[0m \u001b[0;34m=\u001b[0m \u001b[0mload_test\u001b[0m\u001b[0;34m(\u001b[0m\u001b[0mtf\u001b[0m\u001b[0;34m,\u001b[0m \u001b[0mX1\u001b[0m\u001b[0;34m,\u001b[0m \u001b[0my1\u001b[0m\u001b[0;34m)\u001b[0m\u001b[0;34m\u001b[0m\u001b[0m\n\u001b[0;32m---> 20\u001b[0;31m     \u001b[0mroc\u001b[0m\u001b[0;34m,\u001b[0m \u001b[0mfpr\u001b[0m\u001b[0;34m,\u001b[0m \u001b[0mtpr\u001b[0m \u001b[0;34m=\u001b[0m \u001b[0mevaluate_models\u001b[0m\u001b[0;34m(\u001b[0m\u001b[0mX\u001b[0m\u001b[0;34m,\u001b[0m \u001b[0my\u001b[0m\u001b[0;34m,\u001b[0m \u001b[0mmodel\u001b[0m\u001b[0;34m,\u001b[0m \u001b[0mfunc\u001b[0m\u001b[0;34m=\u001b[0m\u001b[0mgrnn_predict_gated\u001b[0m\u001b[0;34m)\u001b[0m\u001b[0;34m\u001b[0m\u001b[0m\n\u001b[0m\u001b[1;32m     21\u001b[0m     \u001b[0;32mreturn\u001b[0m\u001b[0;34m(\u001b[0m\u001b[0mroc\u001b[0m\u001b[0;34m,\u001b[0m \u001b[0mfpr\u001b[0m\u001b[0;34m,\u001b[0m \u001b[0mtpr\u001b[0m\u001b[0;34m)\u001b[0m\u001b[0;34m\u001b[0m\u001b[0m\n",
      "\u001b[0;32m<ipython-input-3-f1e83a477be3>\u001b[0m in \u001b[0;36mevaluate_models\u001b[0;34m(X, y, filename, func)\u001b[0m\n\u001b[1;32m     10\u001b[0m     \u001b[0;34m\"\"\"evaluates a model\"\"\"\u001b[0m\u001b[0;34m\u001b[0m\u001b[0m\n\u001b[1;32m     11\u001b[0m     \u001b[0;32mprint\u001b[0m\u001b[0;34m(\u001b[0m\u001b[0;34m\"Loading \"\u001b[0m \u001b[0;34m+\u001b[0m \u001b[0mfilename\u001b[0m\u001b[0;34m)\u001b[0m\u001b[0;34m,\u001b[0m\u001b[0;34m\u001b[0m\u001b[0m\n\u001b[0;32m---> 12\u001b[0;31m     \u001b[0my_pred\u001b[0m \u001b[0;34m=\u001b[0m \u001b[0mpredict\u001b[0m\u001b[0;34m(\u001b[0m\u001b[0mX\u001b[0m\u001b[0;34m,\u001b[0m \u001b[0mfilename\u001b[0m\u001b[0;34m,\u001b[0m \u001b[0mfunc\u001b[0m\u001b[0;34m=\u001b[0m\u001b[0mfunc\u001b[0m\u001b[0;34m)\u001b[0m\u001b[0;34m\u001b[0m\u001b[0m\n\u001b[0m\u001b[1;32m     13\u001b[0m     \u001b[0mfpr\u001b[0m\u001b[0;34m,\u001b[0m \u001b[0mtpr\u001b[0m\u001b[0;34m,\u001b[0m \u001b[0m_\u001b[0m \u001b[0;34m=\u001b[0m \u001b[0mroc_curve_perso\u001b[0m\u001b[0;34m(\u001b[0m\u001b[0my\u001b[0m\u001b[0;34m,\u001b[0m \u001b[0my_pred\u001b[0m\u001b[0;34m,\u001b[0m\u001b[0mdensity\u001b[0m\u001b[0;34m=\u001b[0m\u001b[0;36m10000\u001b[0m\u001b[0;34m)\u001b[0m\u001b[0;34m\u001b[0m\u001b[0m\n\u001b[1;32m     14\u001b[0m     \u001b[0mroc\u001b[0m \u001b[0;34m=\u001b[0m \u001b[0mnp\u001b[0m\u001b[0;34m.\u001b[0m\u001b[0mtrapz\u001b[0m\u001b[0;34m(\u001b[0m\u001b[0;34m-\u001b[0m\u001b[0mtpr\u001b[0m\u001b[0;34m,\u001b[0m\u001b[0mfpr\u001b[0m\u001b[0;34m)\u001b[0m\u001b[0;34m\u001b[0m\u001b[0m\n",
      "\u001b[0;32m<ipython-input-3-f1e83a477be3>\u001b[0m in \u001b[0;36mpredict\u001b[0;34m(X, filename, func)\u001b[0m\n\u001b[1;32m      1\u001b[0m \u001b[0;32mdef\u001b[0m \u001b[0mpredict\u001b[0m\u001b[0;34m(\u001b[0m\u001b[0mX\u001b[0m\u001b[0;34m,\u001b[0m \u001b[0mfilename\u001b[0m\u001b[0;34m,\u001b[0m \u001b[0mfunc\u001b[0m\u001b[0;34m=\u001b[0m\u001b[0mgrnn_predict_simple\u001b[0m\u001b[0;34m)\u001b[0m\u001b[0;34m:\u001b[0m\u001b[0;34m\u001b[0m\u001b[0m\n\u001b[1;32m      2\u001b[0m     \u001b[0;34m\"\"\"make prediction function\"\"\"\u001b[0m\u001b[0;34m\u001b[0m\u001b[0m\n\u001b[0;32m----> 3\u001b[0;31m     \u001b[0mfd\u001b[0m \u001b[0;34m=\u001b[0m \u001b[0mopen\u001b[0m\u001b[0;34m(\u001b[0m\u001b[0mfilename\u001b[0m\u001b[0;34m,\u001b[0m \u001b[0;34m\"rb\"\u001b[0m\u001b[0;34m)\u001b[0m\u001b[0;34m\u001b[0m\u001b[0m\n\u001b[0m\u001b[1;32m      4\u001b[0m     \u001b[0mparams\u001b[0m \u001b[0;34m=\u001b[0m \u001b[0mpickle\u001b[0m\u001b[0;34m.\u001b[0m\u001b[0mload\u001b[0m\u001b[0;34m(\u001b[0m\u001b[0mfd\u001b[0m\u001b[0;34m)\u001b[0m\u001b[0;34m\u001b[0m\u001b[0m\n\u001b[1;32m      5\u001b[0m     \u001b[0mfd\u001b[0m\u001b[0;34m.\u001b[0m\u001b[0mclose\u001b[0m\u001b[0;34m(\u001b[0m\u001b[0;34m)\u001b[0m\u001b[0;34m\u001b[0m\u001b[0m\n",
      "\u001b[0;31mIOError\u001b[0m: [Errno 2] No such file or directory: '/data/conda/recnn/data/data/conda/recnn/data/models/subjet_oriented_anti-kt_model.pickle'"
     ]
    }
   ],
   "source": [
    "### Build the roc ###\n",
    "r, f, t = build_rocs(tf, X1, y1, basepath+modelpath)\n",
    "print(r)"
   ]
  },
  {
   "cell_type": "code",
   "execution_count": 6,
   "metadata": {},
   "outputs": [
    {
     "ename": "NameError",
     "evalue": "name 'f' is not defined",
     "output_type": "error",
     "traceback": [
      "\u001b[0;31m---------------------------------------------------------------------------\u001b[0m",
      "\u001b[0;31mNameError\u001b[0m                                 Traceback (most recent call last)",
      "\u001b[0;32m<ipython-input-6-927842ef8ba4>\u001b[0m in \u001b[0;36m<module>\u001b[0;34m()\u001b[0m\n\u001b[0;32m----> 1\u001b[0;31m \u001b[0mplt\u001b[0m\u001b[0;34m.\u001b[0m\u001b[0mplot\u001b[0m\u001b[0;34m(\u001b[0m\u001b[0mf\u001b[0m\u001b[0;34m,\u001b[0m\u001b[0mt\u001b[0m\u001b[0;34m,\u001b[0m\u001b[0mlabel\u001b[0m\u001b[0;34m=\u001b[0m\u001b[0mname\u001b[0m\u001b[0;34m)\u001b[0m\u001b[0;34m\u001b[0m\u001b[0m\n\u001b[0m\u001b[1;32m      2\u001b[0m \u001b[0mtpr\u001b[0m\u001b[0;34m,\u001b[0m\u001b[0mfpr\u001b[0m \u001b[0;34m=\u001b[0m \u001b[0mnp\u001b[0m\u001b[0;34m.\u001b[0m\u001b[0mload\u001b[0m\u001b[0;34m(\u001b[0m\u001b[0;34m'/data/conda/recnn/data/roccurves/standardID_ROC.npy'\u001b[0m\u001b[0;34m)\u001b[0m\u001b[0;34m\u001b[0m\u001b[0m\n\u001b[1;32m      3\u001b[0m \u001b[0mplt\u001b[0m\u001b[0;34m.\u001b[0m\u001b[0mplot\u001b[0m\u001b[0;34m(\u001b[0m\u001b[0mfpr\u001b[0m\u001b[0;34m[\u001b[0m\u001b[0;36m1\u001b[0m\u001b[0;34m:\u001b[0m\u001b[0;34m]\u001b[0m\u001b[0;34m,\u001b[0m\u001b[0mtpr\u001b[0m\u001b[0;34m[\u001b[0m\u001b[0;36m1\u001b[0m\u001b[0;34m:\u001b[0m\u001b[0;34m]\u001b[0m\u001b[0;34m,\u001b[0m\u001b[0mlabel\u001b[0m\u001b[0;34m=\u001b[0m\u001b[0;34m'std'\u001b[0m\u001b[0;34m)\u001b[0m\u001b[0;34m\u001b[0m\u001b[0m\n\u001b[1;32m      4\u001b[0m \u001b[0;31m#plt.xscale(\"log\")\u001b[0m\u001b[0;34m\u001b[0m\u001b[0;34m\u001b[0m\u001b[0m\n\u001b[1;32m      5\u001b[0m \u001b[0mplt\u001b[0m\u001b[0;34m.\u001b[0m\u001b[0mlegend\u001b[0m\u001b[0;34m(\u001b[0m\u001b[0;34m)\u001b[0m\u001b[0;34m\u001b[0m\u001b[0m\n",
      "\u001b[0;31mNameError\u001b[0m: name 'f' is not defined"
     ]
    }
   ],
   "source": [
    "plt.plot(f,t,label=name)\n",
    "tpr,fpr = np.load('/data/conda/recnn/data/roccurves/standardID_ROC.npy')\n",
    "plt.plot(fpr[1:],tpr[1:],label='std')\n",
    "#plt.xscale(\"log\")\n",
    "plt.legend()\n",
    "plt.grid()\n",
    "#plt.yscale(\"log\")\n",
    "#plt.xlim([0.0001,0.1])\n",
    "#plt.ylim([0.2,0.8])\n",
    "#plt.savefig(\"first_working_nn_roc.png\",dpi=600)\n",
    "print(r)"
   ]
  },
  {
   "cell_type": "code",
   "execution_count": 7,
   "metadata": {},
   "outputs": [
    {
     "name": "stdout",
     "output_type": "stream",
     "text": [
      "Preprocessing...\n",
      "Loading /data/conda/recnn/data/models/subjet_oriented_anti-kt_model.pickle ROC AUC = 0.9619\n",
      "0.9619426402654256\n",
      "0.9619426402654256\n",
      "Preprocessing...\n",
      "Loading /data/conda/recnn/data/models/subjet_oriented_kt_model.pickle ROC AUC = 0.9606\n",
      "0.9606244408625729\n",
      "0.9606244408625729\n",
      "Preprocessing...\n",
      "Loading /data/conda/recnn/data/models/subjet_oriented_random_model.pickle ROC AUC = 0.9607\n",
      "0.9607283022115808\n",
      "0.9607283022115808\n",
      "Preprocessing...\n",
      "Loading /data/conda/recnn/data/models/subjet_oriented_seqpt_model.pickle ROC AUC = 0.9630\n",
      "0.9630432042526491\n",
      "0.9630432042526491\n",
      "Preprocessing...\n",
      "Loading /data/conda/recnn/data/models/subjet_oriented_seqpt_reversed_model.pickle ROC AUC = 0.9621\n",
      "0.9620722553139548\n",
      "0.9620722553139548\n",
      "Preprocessing...\n",
      "Loading /data/conda/recnn/data/models/subjet_oriented_cambridge_model.pickle ROC AUC = 0.9619\n",
      "0.9619376966189974\n",
      "0.9619376966189974\n",
      "Preprocessing...\n",
      "Loading /data/conda/recnn/data/models/particle_oriented_anti-kt_model.pickle ROC AUC = 0.9620\n",
      "0.9620343798128392\n",
      "0.9620343798128392\n",
      "Preprocessing...\n",
      "Loading /data/conda/recnn/data/models/particle_oriented_kt_model.pickle ROC AUC = 0.9629\n",
      "0.9628751509352848\n",
      "0.9628751509352848\n",
      "Preprocessing...\n",
      "Loading /data/conda/recnn/data/models/particle_oriented_random_model.pickle ROC AUC = 0.9611\n",
      "0.9611445801057863\n",
      "0.9611445801057863\n",
      "Preprocessing...\n",
      "Loading /data/conda/recnn/data/models/particle_oriented_seqpt_model.pickle ROC AUC = 0.9631\n",
      "0.9631432874703615\n",
      "0.9631432874703615\n",
      "Preprocessing...\n",
      "Loading /data/conda/recnn/data/models/particle_oriented_seqpt_reversed_model.pickle ROC AUC = 0.9618\n",
      "0.961801830342446\n",
      "0.961801830342446\n",
      "Preprocessing...\n",
      "Loading /data/conda/recnn/data/models/particle_oriented_cambridge_model.pickle ROC AUC = 0.9614\n",
      "0.9613969328260165\n",
      "0.9613969328260165\n"
     ]
    }
   ],
   "source": [
    "basepath = '/data/conda/recnn/data'\n",
    "filelist=[\"anti-kt\",\"kt\",\"random\",\"seqpt\",\"seqpt_reversed\",\"cambridge\"]\n",
    "#filelist=[\"seqpt\"]\n",
    "roc_list = []\n",
    "\n",
    "for name in filelist:\n",
    "    trainfile,testfile = basepath+\"/npyfiles/subjet_oriented_\"+name+\"_train.npy\",basepath+\"/npyfiles/subjet_oriented_\"+name+\"_test.npy\"\n",
    "    modelpath = basepath+\"/models/subjet_oriented_\"+name+\"_model.pickle\"\n",
    "    ### Load training data ###\n",
    "    X, y = np.load(trainfile)\n",
    "    X=np.array(X).astype(dict)\n",
    "    y = np.array(y).astype(int)\n",
    "\n",
    "    ### to rescale test data ###\n",
    "    tf = load_tf(X,y)\n",
    "\n",
    "    ### Load test data ###\n",
    "    X1, y1 = np.load(testfile)\n",
    "    X1 = np.array(X1).astype(dict)\n",
    "    y1 = np.array(y1).astype(int)\n",
    "    ### Build the roc ###\n",
    "    r, f, t = build_rocs(tf, X1, y1, modelpath)\n",
    "    print(r)\n",
    "    roc_list.append((f,t,'subj_'+name))\n",
    "    print(r)\n",
    "\n",
    "\n",
    "for name in filelist:\n",
    "    trainfile,testfile = basepath+\"/npyfiles/particle_oriented_\"+name+\"_train.npy\",basepath+\"/npyfiles/particle_oriented_\"+name+\"_test.npy\"\n",
    "    modelpath = basepath+\"/models/particle_oriented_\"+name+\"_model.pickle\"\n",
    "    ### Load training data ###\n",
    "    X, y = np.load(trainfile)\n",
    "    X=np.array(X).astype(dict)\n",
    "    y = np.array(y).astype(int)\n",
    "\n",
    "    ### to rescale test data ###\n",
    "    tf = load_tf(X,y)\n",
    "\n",
    "    ### Load test data ###\n",
    "    X1, y1 = np.load(testfile)\n",
    "    X1 = np.array(X1).astype(dict)\n",
    "    y1 = np.array(y1).astype(int)\n",
    "    ### Build the roc ###\n",
    "    r, f, t = build_rocs(tf, X1, y1, modelpath)\n",
    "    print(r)\n",
    "    roc_list.append((f,t,'part_'+name))\n",
    "    print(r)\n"
   ]
  },
  {
   "cell_type": "code",
   "execution_count": 8,
   "metadata": {
    "collapsed": true
   },
   "outputs": [],
   "source": [
    "tpr,fpr = np.load('/data/conda/recnn/data/roccurves/standardID_ROC.npy')\n",
    "roc_list.append((fpr[1:],tpr[1:],\"std\"))"
   ]
  },
  {
   "cell_type": "code",
   "execution_count": 9,
   "metadata": {
    "collapsed": true
   },
   "outputs": [],
   "source": [
    "for i in range((len(roc_list)-1)//2):\n",
    "    a,b,c=roc_list[i]\n",
    "    roc_list[i]=(a,b,\"subj\"+c)\n",
    "\n",
    "for i in range((len(roc_list)-1)//2):\n",
    "    a,b,c=roc_list[(len(roc_list)-1)//2+i]\n",
    "    roc_list[i+(len(roc_list)-1)//2]=(a,b,\"subj\"+c)"
   ]
  },
  {
   "cell_type": "code",
   "execution_count": 14,
   "metadata": {},
   "outputs": [
    {
     "data": {
      "image/png": "[encoded data removed]",
      "text/plain": [
       "<matplotlib.figure.Figure at 0x7f8fed963a90>"
      ]
     },
     "metadata": {},
     "output_type": "display_data"
    }
   ],
   "source": [
    "plt.plot(roc_list[-1][0],roc_list[-1][1])\n",
    "plt.show()"
   ]
  },
  {
   "cell_type": "code",
   "execution_count": 22,
   "metadata": {},
   "outputs": [
    {
     "data": {
      "image/png": "[encoded data removed]",
      "text/plain": [
       "<matplotlib.figure.Figure at 0x7f8fc4a84e90>"
      ]
     },
     "metadata": {},
     "output_type": "display_data"
    }
   ],
   "source": [
    "fig=plt.figure()\n",
    "fig.set_size_inches((12,12))\n",
    "for (i,j,k) in roc_list :\n",
    "    plt.plot(i,j,label=k)\n",
    "    #plt.yscale(\"log\")\n",
    "    #plt.xlim([9e-3,2e-2])\n",
    "    #plt.ylim([0.5,0.7])\n",
    "plt.savefig(\"full_comparisions.png\",dpi=600)\n",
    "#plt.xscale(\"log\")\n",
    "plt.legend()\n",
    "plt.grid()\n",
    "plt.show()"
   ]
  },
  {
   "cell_type": "code",
   "execution_count": null,
   "metadata": {
    "collapsed": true
   },
   "outputs": [],
   "source": []
  }
 ],
 "metadata": {
  "kernelspec": {
   "display_name": "Python 2",
   "language": "python",
   "name": "python2"
  },
  "language_info": {
   "codemirror_mode": {
    "name": "ipython",
    "version": 2
   },
   "file_extension": ".py",
   "mimetype": "text/x-python",
   "name": "python",
   "nbconvert_exporter": "python",
   "pygments_lexer": "ipython2",
   "version": "2.7.14"
  }
 },
 "nbformat": 4,
 "nbformat_minor": 2
}
